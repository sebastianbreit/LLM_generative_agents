{
 "cells": [
  {
   "cell_type": "code",
   "execution_count": 2,
   "id": "eb725cd5-11a0-4e5d-913f-69f77e259ad0",
   "metadata": {},
   "outputs": [],
   "source": [
    "import warnings\n",
    "# Settings the warnings to be ignored for better notebook-clarity\n",
    "warnings.filterwarnings('ignore')\n",
    "\n",
    "from transformers import LlamaTokenizer, LlamaForCausalLM, AutoTokenizer, AutoModelForCausalLM\n",
    "from sentence_transformers import SentenceTransformer\n",
    "from util.memory import Memory\n",
    "import torch\n",
    "import numpy as np\n",
    "\n",
    "import os\n",
    "MODEL_CACHE_PATH = os.getenv(\"HF_MODEL_CACHE_PATH\")+\"/\"\n",
    "if MODEL_CACHE_PATH is None:\n",
    "    MODEL_CACHE_PATH=''"
   ]
  },
  {
   "cell_type": "markdown",
   "id": "c54cc5f5-2132-41ad-86f0-65dab3149e07",
   "metadata": {
    "tags": []
   },
   "source": [
    "## Check if Cuda is available"
   ]
  },
  {
   "cell_type": "code",
   "execution_count": 3,
   "id": "6327c8db-a01a-4edb-a63d-b655b284f76f",
   "metadata": {},
   "outputs": [
    {
     "name": "stdout",
     "output_type": "stream",
     "text": [
      "True\n",
      "1\n",
      "0\n"
     ]
    }
   ],
   "source": [
    "print(torch.cuda.is_available())\n",
    "print(torch.cuda.device_count())\n",
    "print(torch.cuda.current_device())"
   ]
  },
  {
   "cell_type": "markdown",
   "id": "2a166fc7-6bfe-4e85-91f9-22f3dfcb9950",
   "metadata": {},
   "source": [
    "## Load Dialogue Model"
   ]
  },
  {
   "cell_type": "code",
   "execution_count": 4,
   "id": "a8839639-3e96-4e22-83e0-7399dd8c31d2",
   "metadata": {},
   "outputs": [],
   "source": [
    "tokenizer = AutoTokenizer.from_pretrained(\"databricks/dolly-v2-3b\", padding_side=\"left\")\n",
    "tokenizer.pad_token = tokenizer.eos_token\n",
    "model = AutoModelForCausalLM.from_pretrained(\"databricks/dolly-v2-3b\", device_map=\"auto\",\n",
    "                                             torch_dtype=torch.bfloat16, cache_dir=MODEL_CACHE_PATH+'dolly-v2-3b')\n"
   ]
  },
  {
   "cell_type": "markdown",
   "id": "e69c3b52-f7d0-4212-afcb-41e22a2fc665",
   "metadata": {
    "tags": []
   },
   "source": [
    "## Load Sentence Embedding Model"
   ]
  },
  {
   "cell_type": "code",
   "execution_count": 5,
   "id": "abe065b7-eb0c-4936-bd78-27f68c047670",
   "metadata": {},
   "outputs": [],
   "source": [
    "sentence_model = SentenceTransformer(\n",
    "        'sentence-transformers/paraphrase-MiniLM-L6-v2',\n",
    "        cache_folder=MODEL_CACHE_PATH+'paraphrase-MiniLM-L6-v2'\n",
    "    )"
   ]
  },
  {
   "cell_type": "markdown",
   "id": "efd63b92-96e5-4fa4-8064-c77418a0766b",
   "metadata": {},
   "source": [
    "## Define Player and NPC Names"
   ]
  },
  {
   "cell_type": "code",
   "execution_count": 6,
   "id": "50858677-eda1-467d-95bb-23e5f7d361af",
   "metadata": {},
   "outputs": [],
   "source": [
    "npc_name = 'a generic weaponsmith'\n",
    "player_name = 'the Dragonborn'"
   ]
  },
  {
   "cell_type": "markdown",
   "id": "35ccb6da-ee36-4681-9677-2d6426a5c139",
   "metadata": {},
   "source": [
    "## Define Inventory to determine whether a transaction can occur"
   ]
  },
  {
   "cell_type": "code",
   "execution_count": 7,
   "id": "67bd4da8-7ee4-4f31-91a4-76255a0966f0",
   "metadata": {},
   "outputs": [],
   "source": [
    "inventory = [\n",
    "        \"axe\",\n",
    "    \"sword\",\n",
    "    \"mace\",\n",
    "    \"dagger\",\n",
    "    \"hammer\"\n",
    "    ]"
   ]
  },
  {
   "cell_type": "markdown",
   "id": "7558ad27-8023-4c9b-a715-259e8dda0f09",
   "metadata": {},
   "source": [
    "## Initialize inventory memory for transaction check "
   ]
  },
  {
   "cell_type": "code",
   "execution_count": 8,
   "id": "33ee3101-4416-4bb2-8493-e8e7ee8bf386",
   "metadata": {},
   "outputs": [],
   "source": [
    "inventory_memory = Memory(inventory)"
   ]
  },
  {
   "cell_type": "code",
   "execution_count": 9,
   "id": "6705eabc-ed6c-4326-9c4c-34427d9de457",
   "metadata": {
    "tags": []
   },
   "outputs": [],
   "source": [
    "def generateSystemPrompt(transaction_instruction, raw_user_input,npc_name,player_name):\n",
    "    return f\"\"\"Never forget you are {npc_name} and I am {player_name}. Never flip roles! Never instruct me!\n",
    "    You must complete the task that I give you.    \n",
    "    Here is your task: {transaction_instruction}\n",
    "    Here is my request or statement: {raw_user_input}\n",
    "    \\n\n",
    "    \"\"\""
   ]
  },
  {
   "cell_type": "code",
   "execution_count": 11,
   "id": "009b1d90-5ff5-43f3-8b81-60667aa18bca",
   "metadata": {
    "tags": []
   },
   "outputs": [],
   "source": [
    "def formatUserPrompt(raw_user_input,player_name):\n",
    "    return f\"\"\"[{player_name}] \\n{raw_user_input}\"\"\"\n",
    "def formatNpcReply(raw_generated_output,npc_name):\n",
    "    return f\"\"\"[{npc_name}] \\n{raw_generated_output}\"\"\""
   ]
  },
  {
   "cell_type": "code",
   "execution_count": 12,
   "id": "303ed1c5-cbc3-4bae-974c-4d9f775f452b",
   "metadata": {
    "tags": []
   },
   "outputs": [],
   "source": [
    "def generateTransactionInstruction(raw_user_input):\n",
    "    if np.max(inventory_memory.get_similarity_scores(user_input,sentence_model)) >0.6:\n",
    "        print(\"\\nDebug: Transaction success\")\n",
    "        return 'Please do your best to help me with the following request, if possible try to sell the requested item.'\n",
    "    else:\n",
    "        return 'Please reject the following request of mine, because you do not have that item in your inventory.'\n",
    "        print(\"\\nDebug: Transaction failed\")"
   ]
  },
  {
   "cell_type": "markdown",
   "id": "315888d0-5af0-4924-ac24-ddaa7446766b",
   "metadata": {},
   "source": [
    "# Start the NPC Dialogue"
   ]
  },
  {
   "cell_type": "code",
   "execution_count": 13,
   "id": "d6411a10-81ec-4da8-bc0b-b0e9c3d769d7",
   "metadata": {},
   "outputs": [
    {
     "name": "stdout",
     "output_type": "stream",
     "text": [
      "\n",
      "Debug: Transaction success\n",
      "\n",
      "-----------------------------------\n",
      "\n",
      "[the Dragonborn] \n",
      "I want to buy a sword. \n",
      "\n",
      "[a generic weaponsmith] \n",
      "What type of sword? \n",
      "\n",
      "\n",
      "-----------------------------------\n",
      "\n"
     ]
    },
    {
     "name": "stdin",
     "output_type": "stream",
     "text": [
      "Player input:  A simple iron sword.\n"
     ]
    },
    {
     "name": "stdout",
     "output_type": "stream",
     "text": [
      "\n",
      "Debug: Transaction success\n",
      "\n",
      "-----------------------------------\n",
      "\n",
      "[the Dragonborn] \n",
      "A simple iron sword. \n",
      "\n",
      "[a generic weaponsmith] \n",
      "Ok, I will sell you a simple iron sword.\n",
      "\n",
      "\n",
      "-----------------------------------\n",
      "\n"
     ]
    },
    {
     "name": "stdin",
     "output_type": "stream",
     "text": [
      "Player input:  How much does it cost?\n"
     ]
    },
    {
     "name": "stdout",
     "output_type": "stream",
     "text": [
      "\n",
      "-----------------------------------\n",
      "\n",
      "[the Dragonborn] \n",
      "How much does it cost? \n",
      "\n",
      "[a generic weaponsmith] \n",
      "$100. \n",
      "\n",
      "\n",
      "-----------------------------------\n",
      "\n"
     ]
    },
    {
     "name": "stdin",
     "output_type": "stream",
     "text": [
      "Player input:  Ok, here is 100 dollars.\n"
     ]
    },
    {
     "name": "stdout",
     "output_type": "stream",
     "text": [
      "\n",
      "-----------------------------------\n",
      "\n",
      "[the Dragonborn] \n",
      "Ok, here is 100 dollars. \n",
      "\n",
      "[a generic weaponsmith] \n",
      "-accepted-\n",
      "\n",
      "\n",
      "-----------------------------------\n",
      "\n",
      "[the Dragonborn] \n",
      "I want to buy a football. \n",
      "\n",
      "[a generic weaponsmith] \n",
      "You want to buy a football? I do not have any footballs in my inventory. Please specify which football you want.\n",
      "\n",
      "\n",
      "-----------------------------------\n",
      "\n"
     ]
    },
    {
     "name": "stdin",
     "output_type": "stream",
     "text": [
      "Player input:  I want to buy your cheapest football.\n"
     ]
    },
    {
     "name": "stdout",
     "output_type": "stream",
     "text": [
      "\n",
      "-----------------------------------\n",
      "\n",
      "[the Dragonborn] \n",
      "I want to buy your cheapest football. \n",
      "\n",
      "[a generic weaponsmith] \n",
      "I do not have any footballs in my inventory. Please specify which football you want.\n",
      "\n",
      "\n",
      "-----------------------------------\n",
      "\n"
     ]
    },
    {
     "name": "stdin",
     "output_type": "stream",
     "text": [
      "Player input:  I want a simple football, but you say you don't have any, right?\n"
     ]
    },
    {
     "name": "stdout",
     "output_type": "stream",
     "text": [
      "\n",
      "-----------------------------------\n",
      "\n",
      "[the Dragonborn] \n",
      "I want a simple football, but you say you don't have any, right? \n",
      "\n",
      "[a generic weaponsmith] \n",
      "I do not have any footballs in my inventory. Please specify which football you want.\n",
      "\n",
      "\n",
      "-----------------------------------\n",
      "\n"
     ]
    },
    {
     "name": "stdin",
     "output_type": "stream",
     "text": [
      "Player input:  This is pointless..\n"
     ]
    },
    {
     "name": "stdout",
     "output_type": "stream",
     "text": [
      "\n",
      "-----------------------------------\n",
      "\n",
      "[the Dragonborn] \n",
      "This is pointless.. \n",
      "\n",
      "[a generic weaponsmith] \n",
      "I reject your request.\n",
      "\n"
     ]
    }
   ],
   "source": [
    "# Number of sentences used in initial prompt\n",
    "num_sentences = 4\n",
    "\n",
    "# Start conversation history\n",
    "\n",
    "prompt_list=[]\n",
    "# Start dialogue loop\n",
    "# while True:\n",
    "for item in [\"sword\",\"football\"]: # for loop used to avoid interuption error\n",
    "\n",
    "    conversation = \"\"\n",
    "    for i in range(4):\n",
    "        if(i==0):\n",
    "            user_input=f\"I want to buy a {item}.\"\n",
    "        else:\n",
    "            print(\"\\n-----------------------------------\\n\")\n",
    "            user_input=input(\"Player input: \")\n",
    "\n",
    "        transaction_instruction= generateTransactionInstruction(user_input)\n",
    "        #print(np.max(inventory_memory.get_similarity_scores(user_input,sentence_model)))\n",
    "\n",
    "\n",
    "        formatted_prompt = generateSystemPrompt(transaction_instruction, user_input,npc_name,player_name)\n",
    "        #print(formatted_prompt)\n",
    "\n",
    "        # Add user input to conversation history\n",
    "        current_conversation=f\"\\n{formatUserPrompt(user_input,player_name)} \\n\" + f\"\\n[{npc_name}] \" \n",
    "        conversation += current_conversation\n",
    "        print(\"\\n-----------------------------------\\n\"+current_conversation)\n",
    "\n",
    "        input_text = formatted_prompt + \"\\n\" + conversation\n",
    "        input_length = len(input_text)\n",
    "        #print(input_text+\"\\n-----------------------------------\\n\")\n",
    "\n",
    "        # Tokenize input\n",
    "        input_ids = tokenizer(input_text, return_tensors=\"pt\").input_ids.to('cuda')\n",
    "\n",
    "        # Generate respones from dialogue model\n",
    "        generation_output = model.generate(\n",
    "            input_ids=input_ids,max_new_tokens=64, temperature=0.2, do_sample=True, pad_token_id=tokenizer.eos_token_id\n",
    "        )\n",
    "\n",
    "        # Decode response\n",
    "        output=tokenizer.decode(generation_output[0])\n",
    "\n",
    "        #print( output[input_length:]+\"\\n-----------------------------------\\n\")\n",
    "        # Limit reponse to NPC answer\n",
    "        split_string = output[input_length:].split('\\n', 2) # .split(f'\\n{player_name}:', 1)\n",
    "        response = split_string[1] \n",
    "        #print(f\"\\n{npc_name}: \" + response)\n",
    "\n",
    "         # Limit reponse to NPC response\n",
    "        #response=(output[input_length:])\n",
    "\n",
    "\n",
    "        conversation += f\"{response}\\n\" \n",
    "\n",
    "        print(f\"{response}\\n\")"
   ]
  },
  {
   "cell_type": "code",
   "execution_count": null,
   "id": "6d554be8-4608-4dba-8ded-cc73213a590f",
   "metadata": {},
   "outputs": [],
   "source": []
  }
 ],
 "metadata": {
  "kernelspec": {
   "display_name": "Python 3",
   "language": "python",
   "name": "python3"
  },
  "language_info": {
   "codemirror_mode": {
    "name": "ipython",
    "version": 3
   },
   "file_extension": ".py",
   "mimetype": "text/x-python",
   "name": "python",
   "nbconvert_exporter": "python",
   "pygments_lexer": "ipython3",
   "version": "3.8.16"
  }
 },
 "nbformat": 4,
 "nbformat_minor": 5
}
