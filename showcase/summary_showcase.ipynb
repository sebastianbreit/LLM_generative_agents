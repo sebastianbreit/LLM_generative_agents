{
 "cells": [
  {
   "cell_type": "code",
   "execution_count": 1,
   "id": "aae056d7-3fac-445f-b7f3-392f4685788e",
   "metadata": {},
   "outputs": [
    {
     "name": "stderr",
     "output_type": "stream",
     "text": [
      "C:\\Users\\hleie\\anaconda3\\envs\\quang2\\lib\\site-packages\\tqdm\\auto.py:21: TqdmWarning: IProgress not found. Please update jupyter and ipywidgets. See https://ipywidgets.readthedocs.io/en/stable/user_install.html\n",
      "  from .autonotebook import tqdm as notebook_tqdm\n"
     ]
    }
   ],
   "source": [
    "from transformers import pipeline\n",
    "from util.summary_generator import SummaryGenerator\n",
    "from util.memory import Memory\n",
    "from sentence_transformers import SentenceTransformer\n",
    "from transformers import AutoTokenizer, AutoModelForCausalLM\n",
    "import torch"
   ]
  },
  {
   "cell_type": "markdown",
   "id": "2ef165fa-dac7-4c61-8601-bba1fe6ef638",
   "metadata": {},
   "source": [
    "## Load Dialogue Model"
   ]
  },
  {
   "cell_type": "code",
   "execution_count": 2,
   "id": "7fb63ef6-a1c9-42a2-be11-c762031f9fc2",
   "metadata": {},
   "outputs": [],
   "source": [
    "tokenizer = AutoTokenizer.from_pretrained(\"databricks/dolly-v2-3b\", padding_side=\"left\")\n",
    "model = AutoModelForCausalLM.from_pretrained(\"databricks/dolly-v2-3b\", device_map=\"auto\",\n",
    "                                             torch_dtype=torch.bfloat16, cache_dir='dolly-v2-3b')"
   ]
  },
  {
   "cell_type": "markdown",
   "id": "d4da7328-80e3-41da-87f1-bd041eee046a",
   "metadata": {},
   "source": [
    "## Load Summary Model"
   ]
  },
  {
   "cell_type": "code",
   "execution_count": 3,
   "id": "260443b5-91c8-41a1-9f34-01a48a27ee68",
   "metadata": {},
   "outputs": [],
   "source": [
    "summary_pipeline = pipeline('summarization', model='kabita-choudhary/finetuned-bart-for-conversation-summary')\n",
    "summary_generator = SummaryGenerator(summary_pipeline)"
   ]
  },
  {
   "cell_type": "markdown",
   "id": "5ca71c15-27d3-46bb-9763-61181e3ba5a0",
   "metadata": {},
   "source": [
    "## Load sentence embedding model"
   ]
  },
  {
   "cell_type": "code",
   "execution_count": 4,
   "id": "a167dd6f-b14d-463b-b5b9-274e439ec691",
   "metadata": {},
   "outputs": [],
   "source": [
    "sentence_model = SentenceTransformer(\n",
    "    'sentence-transformers/paraphrase-MiniLM-L6-v2',\n",
    "    cache_folder='paraphrase-MiniLM-L6-v2'\n",
    ")"
   ]
  },
  {
   "cell_type": "markdown",
   "id": "65ba05fe-b7aa-469a-9505-df932c0e7256",
   "metadata": {},
   "source": [
    "## Define dialogue"
   ]
  },
  {
   "cell_type": "code",
   "execution_count": 5,
   "id": "1119924d-663d-4870-865d-b80b0d58ff46",
   "metadata": {},
   "outputs": [],
   "source": [
    "dialogue = \"\"\"Laurie: So, what are your plans for this weekend?\\n\n",
    "Christie: I don’t know. Do you want to get together or something?\\n\n",
    "Sarah: How about going to see a movie? Cinemax 26 on Carson Boulevard is showing Enchanted. Laurie: That sounds like a good idea. Maybe we should go out to eat beforehand.\\n\n",
    "Sarah: It is fine with me. Where do you want to meet?\\n\n",
    "Christie: Let’s meet at Summer Pizza House. I have not gone there for a long time.\\n\n",
    "Laurie: Good idea again. I heard they just came up with a new pizza. It should be good because Summer Pizza House always has the best pizza in town.\\n\n",
    "Sarah: When should we meet?\\n\n",
    "Christie: Well, the movie is shown at 2:00PM, 4:00PM, 6:00PM and 8:00PM.\\n\n",
    "Laurie: Why don’t we go to the 2:00PM show? We can meet at Summer Pizza House at noon. That will give us plenty of time to enjoy our pizza.\\n\n",
    "Sarah: My cousin Karen is in town. Can I bring her along? I hate to leave her home alone.\\n\n",
    "Christie: Karen is in town? Yes, bring her along. Laurie, you remember Karen? We met her at Sara’s high school graduation party two years ago.\\n\n",
    "Laurie: I do not quite remember her. What does she look like?\\n\n",
    "Sarah: She has blond hair, she is kind of slender, and she is about your height.\\n\n",
    "Laurie: She wears eyeglasses, right?\\n\n",
    "Sarah: Yes, and she was playing the piano off and on during the party.\\n\n",
    "Laurie: I remember her now. Yes, do bring her along Sara. She is such a nice person, and funny too.\\n\n",
    "Sarah: She will be happy to meet both of you again.\\n\n",
    "Christie: What is she doing these days?\\n\n",
    "Sarah: She graduated last June, and she will start her teaching career next week when the new school term begins.\\n\n",
    "Laurie: What grade is she going to teach?\\n\n",
    "Sarah: She will teach kindergarten. She loves working with kids, and she always has such a good rapport with them\\n\n",
    "Christie: Kindergarten? She must be a very patient person. I always think kindergarten is the most difficult class to teach. Most of the kids have never been to school, and they have e never been away from mommy for long.\\n\n",
    "Sarah:  I think Karen will do fine. She knows how to handle young children\\n\n",
    "Laurie: I think the first few weeks will be tough. However, once the routine is set, it should not be too difficult to teach kindergarten.\\n\n",
    "Christie: You are right. The kids might even look forward to going to school since they have so many friends to play with.\\n\n",
    "Sarah: There are so many new things for them to do at school too. They do a lot of crafts in kindergarten. I am always amazed by the things kindergarten teachers do.\\n\n",
    "Laurie: Yes, I have seen my niece come home with so many neat stuff.\\n\n",
    "Christie: Maybe we can ask Karen to show us some of the things that we can do for this Halloween.\\n\n",
    "Laurie: Maybe we can stop by the craft store after the movie. What do you think, Sara?\\n\n",
    "Sarah: I will talk to her. I think she will like that. It will help her with school projects when Halloween comes.\\n\n",
    "Christie: Michael’s is a good store for crafts. It always carries a variety of things, and you can find almost anything there.\\n\n",
    "Laurie: There is a Michaels store not far away from Cinemax 26. I believe it is just around the corner, on Pioneer Avenue. We can even walk over there.\\n\n",
    "Sarah: So, we plan to meet for pizza at noon, go to the movies at two, and shop at Michael’s afterward. Right?\\n\n",
    "Laurie and Christie: Yes.\"\"\""
   ]
  },
  {
   "cell_type": "markdown",
   "id": "27e93894-b6db-4b24-9790-031ea8842153",
   "metadata": {},
   "source": [
    "## Generate Memories (with sampling)"
   ]
  },
  {
   "cell_type": "code",
   "execution_count": 6,
   "id": "33c66b46-cd0a-4721-964c-28564b0e0372",
   "metadata": {},
   "outputs": [
    {
     "name": "stderr",
     "output_type": "stream",
     "text": [
      "C:\\Users\\hleie\\anaconda3\\envs\\quang2\\lib\\site-packages\\transformers\\generation\\utils.py:1219: UserWarning: You have modified the pretrained model configuration to control generation. This is a deprecated strategy to control generation and will be removed soon, in a future version. Please use a generation configuration file (see https://huggingface.co/docs/transformers/main_classes/text_generation)\n",
      "  warnings.warn(\n"
     ]
    },
    {
     "name": "stdout",
     "output_type": "stream",
     "text": [
      "Memories: ['Christie, Laurie, Sarah and Sarah are going to see \"Enchanted\" at Cinemax 26 on Carson Boulevard at 2 PM.', 'They will meet at Summer Pizza House at noon.', \"After the movie, they will go to Michael's for pizza and meet Sarah's cousin Karen, who will start her new job as a kindergarten teacher next week.\", '.']\n"
     ]
    }
   ],
   "source": [
    "sentence_list = summary_generator.generate_memories(dialogue, max_length=128, min_length=30, do_sample=True)\n",
    "print(f\"Memories: {sentence_list}\")"
   ]
  },
  {
   "cell_type": "markdown",
   "id": "6120757a-85b4-4d08-8aa6-acbdde71422c",
   "metadata": {},
   "source": [
    "## Generate Memories (without sampling)"
   ]
  },
  {
   "cell_type": "code",
   "execution_count": 7,
   "id": "76f8a3a3-ae06-4ac0-a028-a57e5172907c",
   "metadata": {},
   "outputs": [
    {
     "name": "stdout",
     "output_type": "stream",
     "text": [
      "Memories: ['Christie, Laurie, Sarah and Sarah are going to see \"Enchanted\" at Cinemax 26 on Carson Boulevard at 2 PM.', \"They will meet at Summer Pizza House at noon and go to Michael's afterwards.\", \"They are also going to meet Karen, Sarah's cousin, who graduated last June and will start her teaching career next week as a kindergarten teacher.\", '.']\n"
     ]
    }
   ],
   "source": [
    "sentence_list = summary_generator.generate_memories(dialogue, max_length=128, min_length=30, do_sample=False)\n",
    "print(f\"Memories: {sentence_list}\")"
   ]
  },
  {
   "cell_type": "markdown",
   "id": "9515f6e6-4faa-4b41-9519-661c088eec10",
   "metadata": {},
   "source": [
    "## Get sentence rating for each sentence"
   ]
  },
  {
   "cell_type": "code",
   "execution_count": 8,
   "id": "55499aa8-44d4-49db-997e-bb346656d559",
   "metadata": {},
   "outputs": [],
   "source": [
    "sentence_rating_list = [1 for s in sentence_list]"
   ]
  },
  {
   "cell_type": "markdown",
   "id": "71fec80b-db01-4e6c-82be-c2b1b41ad6de",
   "metadata": {},
   "source": [
    "## Add sentences and sentence ratings to Memory"
   ]
  },
  {
   "cell_type": "code",
   "execution_count": 9,
   "id": "08d18728-ae5a-418f-b5d8-65c6d6df3720",
   "metadata": {},
   "outputs": [
    {
     "name": "stdout",
     "output_type": "stream",
     "text": [
      "Key Sentences: ['Christie, Laurie, Sarah and Sarah are going to see \"Enchanted\" at Cinemax 26 on Carson Boulevard at 2 PM.', \"They will meet at Summer Pizza House at noon and go to Michael's afterwards.\", \"They are also going to meet Karen, Sarah's cousin, who graduated last June and will start her teaching career next week as a kindergarten teacher.\", '.']\n"
     ]
    }
   ],
   "source": [
    "memory = Memory(list(), list())\n",
    "memory.add_sentences(sentence_list, sentence_rating_list)\n",
    "print(f'Key Sentences: {memory.key_sentences}')"
   ]
  },
  {
   "cell_type": "code",
   "execution_count": 11,
   "id": "76d0eca9-6092-46af-86c4-f7a09c0efda4",
   "metadata": {},
   "outputs": [
    {
     "name": "stdin",
     "output_type": "stream",
     "text": [
      "Laurie:  Hey, how was Karens first day at work?\n"
     ]
    },
    {
     "name": "stderr",
     "output_type": "stream",
     "text": [
      "The attention mask and the pad token id were not set. As a consequence, you may observe unexpected behavior. Please pass your input's `attention_mask` to obtain reliable results.\n",
      "Setting `pad_token_id` to `eos_token_id`:0 for open-end generation.\n"
     ]
    },
    {
     "name": "stdout",
     "output_type": "stream",
     "text": [
      "\n",
      "Laurie: Hey, how was Karens first day at work?\n",
      "\n",
      "Initial Prompt: They will meet at Summer Pizza House at noon and go to Michael's afterwards.They are also going to meet Karen, Sarah's cousin, who graduated last June and will start her teaching career next week as a kindergarten teacher.\n",
      "\n",
      "Sarah: It was great! She was very excited to start and the kids were so engaged. She is going to be a great teacher!\n"
     ]
    },
    {
     "name": "stdin",
     "output_type": "stream",
     "text": [
      "Laurie:  What is her job again?\n"
     ]
    },
    {
     "name": "stderr",
     "output_type": "stream",
     "text": [
      "The attention mask and the pad token id were not set. As a consequence, you may observe unexpected behavior. Please pass your input's `attention_mask` to obtain reliable results.\n",
      "Setting `pad_token_id` to `eos_token_id`:0 for open-end generation.\n"
     ]
    },
    {
     "name": "stdout",
     "output_type": "stream",
     "text": [
      "\n",
      "Laurie: What is her job again?\n",
      "\n",
      "Initial Prompt: .They are also going to meet Karen, Sarah's cousin, who graduated last June and will start her teaching career next week as a kindergarten teacher.\n",
      "\n",
      "Sarah: She is a kindergarten teacher.\n"
     ]
    },
    {
     "name": "stdin",
     "output_type": "stream",
     "text": [
      "Laurie:  Ah, I see. Where should we meet later?\n"
     ]
    },
    {
     "name": "stderr",
     "output_type": "stream",
     "text": [
      "The attention mask and the pad token id were not set. As a consequence, you may observe unexpected behavior. Please pass your input's `attention_mask` to obtain reliable results.\n",
      "Setting `pad_token_id` to `eos_token_id`:0 for open-end generation.\n"
     ]
    },
    {
     "name": "stdout",
     "output_type": "stream",
     "text": [
      "\n",
      "Laurie: Ah, I see. Where should we meet later?\n",
      "\n",
      "Initial Prompt: Christie, Laurie, Sarah and Sarah are going to see \"Enchanted\" at Cinemax 26 on Carson Boulevard at 2 PM.They will meet at Summer Pizza House at noon and go to Michael's afterwards.\n",
      "\n",
      "Sarah: We are going to see \"Enchanted\" at Cinemax 26 on Carson Boulevard at 2 PM.\n"
     ]
    }
   ],
   "source": [
    "# Number of sentences used in initial prompt\n",
    "num_sentences = 2\n",
    "\n",
    "# Player and NPC Name:\n",
    "player_name = 'Laurie'\n",
    "npc_name = 'Sarah'\n",
    "\n",
    "# Start conversation history\n",
    "conversation = \"\"\n",
    "\n",
    "# Start dialogue loop\n",
    "# while True:\n",
    "for i in range(3):\n",
    "    \n",
    "    # Get user input\n",
    "    user_input = input(f'{player_name}: ')\n",
    "    print(f\"\\n{player_name}: \" + user_input)\n",
    "\n",
    "    # Generate initial prompt based on current user input\n",
    "    initial_prompt = memory.generate_prompt(user_input, sentence_model, num_sentences=num_sentences)\n",
    "    print(f'\\nInitial Prompt: {initial_prompt}')\n",
    "\n",
    "    # Add user input to conversation history\n",
    "    conversation += f\"\\n{player_name}:\\n\" + user_input + f\"\\n{npc_name}: \"\n",
    "\n",
    "    # Add initial prompt to conversation history to generate model input\n",
    "    input_text = initial_prompt + \"\\n\" + conversation\n",
    "    input_length = len(input_text)\n",
    "\n",
    "    # Tokenize input\n",
    "    input_ids = tokenizer(input_text, return_tensors=\"pt\").input_ids.to('cuda')\n",
    "\n",
    "    # Generate respones from dialogue model\n",
    "    generation_output = model.generate(\n",
    "        input_ids=input_ids, max_new_tokens=64, temperature=0.2, do_sample=True\n",
    "    )\n",
    "\n",
    "    # Decode response\n",
    "    output = tokenizer.decode(generation_output[0])\n",
    "\n",
    "    # Limit reponse to NPC response\n",
    "    split_string = output[input_length:].split('\\n', 2)\n",
    "    response = split_string[1] \n",
    "    print(f\"\\n{npc_name}: \" + response)\n",
    "\n",
    "    # Add response to conversation history\n",
    "    conversation += response"
   ]
  },
  {
   "cell_type": "code",
   "execution_count": null,
   "id": "03ba55dd-e147-4f69-85c9-37741c2a141d",
   "metadata": {},
   "outputs": [],
   "source": []
  }
 ],
 "metadata": {
  "kernelspec": {
   "display_name": "Python 3",
   "language": "python",
   "name": "python3"
  },
  "language_info": {
   "codemirror_mode": {
    "name": "ipython",
    "version": 3
   },
   "file_extension": ".py",
   "mimetype": "text/x-python",
   "name": "python",
   "nbconvert_exporter": "python",
   "pygments_lexer": "ipython3",
   "version": "3.8.16"
  }
 },
 "nbformat": 4,
 "nbformat_minor": 5
}
