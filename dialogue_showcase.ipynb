{
 "cells": [
  {
   "cell_type": "code",
   "execution_count": 1,
   "id": "eb725cd5-11a0-4e5d-913f-69f77e259ad0",
   "metadata": {},
   "outputs": [
    {
     "name": "stderr",
     "output_type": "stream",
     "text": [
      "C:\\Users\\hleie\\anaconda3\\envs\\quang2\\lib\\site-packages\\tqdm\\auto.py:21: TqdmWarning: IProgress not found. Please update jupyter and ipywidgets. See https://ipywidgets.readthedocs.io/en/stable/user_install.html\n",
      "  from .autonotebook import tqdm as notebook_tqdm\n"
     ]
    }
   ],
   "source": [
    "from transformers import LlamaTokenizer, LlamaForCausalLM, AutoTokenizer, AutoModelForCausalLM\n",
    "from sentence_transformers import SentenceTransformer\n",
    "from memory import Memory\n",
    "import torch"
   ]
  },
  {
   "cell_type": "markdown",
   "id": "c54cc5f5-2132-41ad-86f0-65dab3149e07",
   "metadata": {},
   "source": [
    "## Check if Cuda is available"
   ]
  },
  {
   "cell_type": "code",
   "execution_count": 2,
   "id": "6327c8db-a01a-4edb-a63d-b655b284f76f",
   "metadata": {},
   "outputs": [
    {
     "name": "stdout",
     "output_type": "stream",
     "text": [
      "True\n",
      "1\n",
      "0\n"
     ]
    }
   ],
   "source": [
    "print(torch.cuda.is_available())\n",
    "print(torch.cuda.device_count())\n",
    "print(torch.cuda.current_device())"
   ]
  },
  {
   "cell_type": "markdown",
   "id": "2a166fc7-6bfe-4e85-91f9-22f3dfcb9950",
   "metadata": {},
   "source": [
    "## Load Dialogue Model"
   ]
  },
  {
   "cell_type": "code",
   "execution_count": 3,
   "id": "a8839639-3e96-4e22-83e0-7399dd8c31d2",
   "metadata": {},
   "outputs": [
    {
     "name": "stdout",
     "output_type": "stream",
     "text": [
      "GPTNeoXForCausalLM(\n",
      "  (gpt_neox): GPTNeoXModel(\n",
      "    (embed_in): Embedding(50280, 2560)\n",
      "    (layers): ModuleList(\n",
      "      (0-31): 32 x GPTNeoXLayer(\n",
      "        (input_layernorm): LayerNorm((2560,), eps=1e-05, elementwise_affine=True)\n",
      "        (post_attention_layernorm): LayerNorm((2560,), eps=1e-05, elementwise_affine=True)\n",
      "        (attention): GPTNeoXAttention(\n",
      "          (rotary_emb): RotaryEmbedding()\n",
      "          (query_key_value): Linear(in_features=2560, out_features=7680, bias=True)\n",
      "          (dense): Linear(in_features=2560, out_features=2560, bias=True)\n",
      "        )\n",
      "        (mlp): GPTNeoXMLP(\n",
      "          (dense_h_to_4h): Linear(in_features=2560, out_features=10240, bias=True)\n",
      "          (dense_4h_to_h): Linear(in_features=10240, out_features=2560, bias=True)\n",
      "          (act): GELUActivation()\n",
      "        )\n",
      "      )\n",
      "    )\n",
      "    (final_layer_norm): LayerNorm((2560,), eps=1e-05, elementwise_affine=True)\n",
      "  )\n",
      "  (embed_out): Linear(in_features=2560, out_features=50280, bias=False)\n",
      ")\n"
     ]
    }
   ],
   "source": [
    "tokenizer = AutoTokenizer.from_pretrained(\"databricks/dolly-v2-3b\", padding_side=\"left\")\n",
    "tokenizer.pad_token = tokenizer.eos_token\n",
    "model = AutoModelForCausalLM.from_pretrained(\"databricks/dolly-v2-3b\", device_map=\"auto\",\n",
    "                                             torch_dtype=torch.bfloat16, cache_dir='dolly-v2-3b')\n",
    "print(model)"
   ]
  },
  {
   "cell_type": "markdown",
   "id": "e69c3b52-f7d0-4212-afcb-41e22a2fc665",
   "metadata": {},
   "source": [
    "## Load Sentence Embedding Model"
   ]
  },
  {
   "cell_type": "code",
   "execution_count": 4,
   "id": "abe065b7-eb0c-4936-bd78-27f68c047670",
   "metadata": {},
   "outputs": [
    {
     "name": "stdout",
     "output_type": "stream",
     "text": [
      "SentenceTransformer(\n",
      "  (0): Transformer({'max_seq_length': 128, 'do_lower_case': False}) with Transformer model: BertModel \n",
      "  (1): Pooling({'word_embedding_dimension': 384, 'pooling_mode_cls_token': False, 'pooling_mode_mean_tokens': True, 'pooling_mode_max_tokens': False, 'pooling_mode_mean_sqrt_len_tokens': False})\n",
      ")\n"
     ]
    }
   ],
   "source": [
    "sentence_model = SentenceTransformer(\n",
    "        'sentence-transformers/paraphrase-MiniLM-L6-v2',\n",
    "        cache_folder='paraphrase-MiniLM-L6-v2'\n",
    "    )\n",
    "print(sentence_model)"
   ]
  },
  {
   "cell_type": "markdown",
   "id": "efd63b92-96e5-4fa4-8064-c77418a0766b",
   "metadata": {},
   "source": [
    "## Define Player and NPC Names"
   ]
  },
  {
   "cell_type": "code",
   "execution_count": 5,
   "id": "50858677-eda1-467d-95bb-23e5f7d361af",
   "metadata": {},
   "outputs": [],
   "source": [
    "npc_name = 'Balgruuf the Greater'\n",
    "player_name = 'Player'"
   ]
  },
  {
   "cell_type": "markdown",
   "id": "35ccb6da-ee36-4681-9677-2d6426a5c139",
   "metadata": {},
   "source": [
    "## Define Memories with Importance Rating"
   ]
  },
  {
   "cell_type": "code",
   "execution_count": 6,
   "id": "67bd4da8-7ee4-4f31-91a4-76255a0966f0",
   "metadata": {},
   "outputs": [],
   "source": [
    "memories = [\n",
    "        'is the jarl of Whiterun.',\n",
    "        'is a Nord'\n",
    "        'resides in the great hall Dragonsreach in Whiterun.',\n",
    "        'wears noble cloths.',\n",
    "        'wears a crown.',\n",
    "        'has a unique war axe.',\n",
    "        'has a brother called Hrongar.',\n",
    "        'has three children called Frothar, Dagny and Nelkir.',\n",
    "        'has no wife.',\n",
    "        'puts Whiteruns interests first.',\n",
    "        'did not permit the Imperials to garrison soldiers in the city.',\n",
    "        'takes no sides in the war.',\n",
    "        'is always on the side of Whiterun',\n",
    "        'does not like Urlfric and Galmar, because they attacked Whiterun.',\n",
    "        'does not like the stormcloaks, because they attacked Whiterun.',\n",
    "        'is concerned about the dragons, because they attacked Whiterun.',\n",
    "        'worships Talos, the god of the Nords.',\n",
    "        'hates the Thalmor.',\n",
    "        'is friends with Irileth, because he fought with her in the war.',\n",
    "    ]\n",
    "memories = [npc_name + \" \" + m + \" \" for m in memories]\n",
    "memory_ratings = [4, 1, 2, 1, 2, 3, 3, 2, 5, 2, 3, 4, 3, 3, 5, 2, 4, 4]"
   ]
  },
  {
   "cell_type": "markdown",
   "id": "7558ad27-8023-4c9b-a715-259e8dda0f09",
   "metadata": {},
   "source": [
    "## Initialize Memory for Dialogue "
   ]
  },
  {
   "cell_type": "code",
   "execution_count": 7,
   "id": "33ee3101-4416-4bb2-8493-e8e7ee8bf386",
   "metadata": {},
   "outputs": [],
   "source": [
    "memory = Memory(memories, memory_ratings)"
   ]
  },
  {
   "cell_type": "markdown",
   "id": "315888d0-5af0-4924-ac24-ddaa7446766b",
   "metadata": {},
   "source": [
    "# Start the NPC Dialogue"
   ]
  },
  {
   "cell_type": "code",
   "execution_count": 9,
   "id": "e2c4aff6-f18e-47a0-8895-a983b5b11ffb",
   "metadata": {},
   "outputs": [
    {
     "name": "stdin",
     "output_type": "stream",
     "text": [
      "Player:  Hello, who are you?\n"
     ]
    },
    {
     "name": "stderr",
     "output_type": "stream",
     "text": [
      "The attention mask and the pad token id were not set. As a consequence, you may observe unexpected behavior. Please pass your input's `attention_mask` to obtain reliable results.\n",
      "Setting `pad_token_id` to `eos_token_id`:0 for open-end generation.\n"
     ]
    },
    {
     "name": "stdout",
     "output_type": "stream",
     "text": [
      "\n",
      "Initial Prompt: Balgruuf the Greater is concerned about the dragons, because they attacked Whiterun. Balgruuf the Greater is friends with Irileth, because he fought with her in the war. Balgruuf the Greater puts Whiteruns interests first. Balgruuf the Greater is the jarl of Whiterun. \n",
      "\n",
      "Balgruuf the Greater: I am the jarl of Whiterun. \n"
     ]
    },
    {
     "name": "stdin",
     "output_type": "stream",
     "text": [
      "Player:  Oh, do you support the stormcloaks in the war?\n"
     ]
    },
    {
     "name": "stderr",
     "output_type": "stream",
     "text": [
      "The attention mask and the pad token id were not set. As a consequence, you may observe unexpected behavior. Please pass your input's `attention_mask` to obtain reliable results.\n",
      "Setting `pad_token_id` to `eos_token_id`:0 for open-end generation.\n"
     ]
    },
    {
     "name": "stdout",
     "output_type": "stream",
     "text": [
      "\n",
      "Initial Prompt: Balgruuf the Greater puts Whiteruns interests first. Balgruuf the Greater is friends with Irileth, because he fought with her in the war. Balgruuf the Greater does not like the stormcloaks, because they attacked Whiterun. Balgruuf the Greater is concerned about the dragons, because they attacked Whiterun. \n",
      "\n",
      "Balgruuf the Greater: No, I am friends with Irileth. She was my ally in the war.\n"
     ]
    },
    {
     "name": "stdin",
     "output_type": "stream",
     "text": [
      "Player:  Ok, but on which side are you on in the war?\n"
     ]
    },
    {
     "name": "stderr",
     "output_type": "stream",
     "text": [
      "The attention mask and the pad token id were not set. As a consequence, you may observe unexpected behavior. Please pass your input's `attention_mask` to obtain reliable results.\n",
      "Setting `pad_token_id` to `eos_token_id`:0 for open-end generation.\n"
     ]
    },
    {
     "name": "stdout",
     "output_type": "stream",
     "text": [
      "\n",
      "Initial Prompt: Balgruuf the Greater is always on the side of Whiterun Balgruuf the Greater takes no sides in the war. Balgruuf the Greater is concerned about the dragons, because they attacked Whiterun. Balgruuf the Greater is friends with Irileth, because he fought with her in the war. \n",
      "\n",
      "Balgruuf the Greater: I am neutral.\n"
     ]
    },
    {
     "name": "stdin",
     "output_type": "stream",
     "text": [
      "Player:  Are you worried about the dragons?\n"
     ]
    },
    {
     "name": "stderr",
     "output_type": "stream",
     "text": [
      "The attention mask and the pad token id were not set. As a consequence, you may observe unexpected behavior. Please pass your input's `attention_mask` to obtain reliable results.\n",
      "Setting `pad_token_id` to `eos_token_id`:0 for open-end generation.\n"
     ]
    },
    {
     "name": "stdout",
     "output_type": "stream",
     "text": [
      "\n",
      "Initial Prompt: Balgruuf the Greater is friends with Irileth, because he fought with her in the war. Balgruuf the Greater hates the Thalmor. Balgruuf the Greater does not like the stormcloaks, because they attacked Whiterun. Balgruuf the Greater is concerned about the dragons, because they attacked Whiterun. \n",
      "\n",
      "Balgruuf the Greater: No, the dragons attacked Whiterun, not the stormcloaks.\n"
     ]
    }
   ],
   "source": [
    "# Number of sentences used in initial prompt\n",
    "num_sentences = 4\n",
    "\n",
    "# Start conversation history\n",
    "conversation = \"\"\n",
    "\n",
    "# Start dialogue loop\n",
    "# while True:\n",
    "for i in range(4): # for loop used to avoid interuption error\n",
    "    \n",
    "    # Get user input\n",
    "    user_input = input('Player: ')\n",
    "    #print(\"\\nPlayer: \" + user_input)\n",
    "\n",
    "    # Generate initial prompt based on current user input\n",
    "    initial_prompt = memory.generate_prompt(user_input, sentence_model, num_sentences=num_sentences)\n",
    "    print(f'\\nInitial Prompt: {initial_prompt}')\n",
    "\n",
    "    # Add user input to conversation history\n",
    "    conversation += f\"\\n{player_name}:\\n\" + user_input + f\"\\n{npc_name}: \"\n",
    "\n",
    "    # Add initial prompt to conversation history to generate model input\n",
    "    input_text = initial_prompt + \"\\n\" + conversation\n",
    "    input_length = len(input_text)\n",
    "\n",
    "    # Tokenize input\n",
    "    input_ids = tokenizer(input_text, return_tensors=\"pt\").input_ids.to('cuda')\n",
    "\n",
    "    # Generate respones from dialogue model\n",
    "    generation_output = model.generate(\n",
    "        input_ids=input_ids, max_new_tokens=64, temperature=0.2, do_sample=True\n",
    "    )\n",
    "\n",
    "    # Decode response\n",
    "    output = tokenizer.decode(generation_output[0])\n",
    "\n",
    "    # Limit reponse to NPC response\n",
    "    split_string = output[input_length:].split('\\n', 2) # .split(f'\\n{player_name}:', 1)\n",
    "    response = split_string[1] \n",
    "    print(f\"\\n{npc_name}: \" + response)\n",
    "\n",
    "    # Add response to conversation history\n",
    "    conversation += response"
   ]
  },
  {
   "cell_type": "markdown",
   "id": "0f265765-c2e3-4c28-a80c-9bc49300f5da",
   "metadata": {},
   "source": [
    "## Setting a higher Temperature\n",
    "This causes more interesting and more creative responses. However, it also causes more hallucinations. This means the dialogue model will more likely make up stuff that is not part of the NPC-memory. "
   ]
  },
  {
   "cell_type": "code",
   "execution_count": 12,
   "id": "a7f07231-7edc-4f02-95fa-28b2637f4dca",
   "metadata": {},
   "outputs": [
    {
     "name": "stdin",
     "output_type": "stream",
     "text": [
      "Player:  Hello, who are you?\n"
     ]
    },
    {
     "name": "stderr",
     "output_type": "stream",
     "text": [
      "The attention mask and the pad token id were not set. As a consequence, you may observe unexpected behavior. Please pass your input's `attention_mask` to obtain reliable results.\n",
      "Setting `pad_token_id` to `eos_token_id`:0 for open-end generation.\n"
     ]
    },
    {
     "name": "stdout",
     "output_type": "stream",
     "text": [
      "\n",
      "Initial Prompt: Balgruuf the Greater is concerned about the dragons, because they attacked Whiterun. Balgruuf the Greater is friends with Irileth, because he fought with her in the war. Balgruuf the Greater puts Whiteruns interests first. Balgruuf the Greater is the jarl of Whiterun. \n",
      "\n",
      "Balgruuf the Greater: Balgruuf the Greater is the jarl of Whiterun. I am the commander of the Balgruuf's army. \n"
     ]
    },
    {
     "name": "stdin",
     "output_type": "stream",
     "text": [
      "Player:  Oh, do you support the stormcloaks in the war?\n"
     ]
    },
    {
     "name": "stderr",
     "output_type": "stream",
     "text": [
      "The attention mask and the pad token id were not set. As a consequence, you may observe unexpected behavior. Please pass your input's `attention_mask` to obtain reliable results.\n",
      "Setting `pad_token_id` to `eos_token_id`:0 for open-end generation.\n"
     ]
    },
    {
     "name": "stdout",
     "output_type": "stream",
     "text": [
      "\n",
      "Initial Prompt: Balgruuf the Greater puts Whiteruns interests first. Balgruuf the Greater is friends with Irileth, because he fought with her in the war. Balgruuf the Greater does not like the stormcloaks, because they attacked Whiterun. Balgruuf the Greater is concerned about the dragons, because they attacked Whiterun. \n",
      "\n",
      "Balgruuf the Greater: I am neutral. We have been at war with the stormcloaks for 10 years. We fought against them in 1076. We won the war!\n"
     ]
    },
    {
     "name": "stdin",
     "output_type": "stream",
     "text": [
      "Player:  Ok, but on which side are you on in the war?\n"
     ]
    },
    {
     "name": "stderr",
     "output_type": "stream",
     "text": [
      "The attention mask and the pad token id were not set. As a consequence, you may observe unexpected behavior. Please pass your input's `attention_mask` to obtain reliable results.\n",
      "Setting `pad_token_id` to `eos_token_id`:0 for open-end generation.\n"
     ]
    },
    {
     "name": "stdout",
     "output_type": "stream",
     "text": [
      "\n",
      "Initial Prompt: Balgruuf the Greater is always on the side of Whiterun Balgruuf the Greater takes no sides in the war. Balgruuf the Greater is concerned about the dragons, because they attacked Whiterun. Balgruuf the Greater is friends with Irileth, because he fought with her in the war. \n",
      "\n",
      "Balgruuf the Greater: I am on the side of Whiterun. Balgruuf the Greater takes no sides in the war. Balgruuf the Greater is concerned about the dragons, because they attacked Whiterun. Balgruuf the Greater is friends with Irileth, because he fought with her in the war.\n"
     ]
    },
    {
     "name": "stdin",
     "output_type": "stream",
     "text": [
      "Player:  Are you worried about the dragons?\n"
     ]
    },
    {
     "name": "stderr",
     "output_type": "stream",
     "text": [
      "The attention mask and the pad token id were not set. As a consequence, you may observe unexpected behavior. Please pass your input's `attention_mask` to obtain reliable results.\n",
      "Setting `pad_token_id` to `eos_token_id`:0 for open-end generation.\n"
     ]
    },
    {
     "name": "stdout",
     "output_type": "stream",
     "text": [
      "\n",
      "Initial Prompt: Balgruuf the Greater is friends with Irileth, because he fought with her in the war. Balgruuf the Greater hates the Thalmor. Balgruuf the Greater does not like the stormcloaks, because they attacked Whiterun. Balgruuf the Greater is concerned about the dragons, because they attacked Whiterun. \n",
      "\n",
      "Balgruuf the Greater: We have a small dragon in our backyard, but it's not a problem for us. They are a menace for the other side. The dragon and the stormcloaks are related. The dragon helped the stormcloaks to take over the sea of stones. \n"
     ]
    }
   ],
   "source": [
    "# Number of sentences used in initial prompt\n",
    "num_sentences = 4\n",
    "\n",
    "# Start conversation history\n",
    "conversation = \"\"\n",
    "\n",
    "# Start dialogue loop\n",
    "# while True:\n",
    "for i in range(4): # for loop used to avoid interuption error\n",
    "    \n",
    "    # Get user input\n",
    "    user_input = input('Player: ')\n",
    "    #print(\"\\nPlayer: \" + user_input)\n",
    "\n",
    "    # Generate initial prompt based on current user input\n",
    "    initial_prompt = memory.generate_prompt(user_input, sentence_model, num_sentences=num_sentences)\n",
    "    print(f'\\nInitial Prompt: {initial_prompt}')\n",
    "\n",
    "    # Add user input to conversation history\n",
    "    conversation += f\"\\n{player_name}:\\n\" + user_input + f\"\\n{npc_name}: \"\n",
    "\n",
    "    # Add initial prompt to conversation history to generate model input\n",
    "    input_text = initial_prompt + \"\\n\" + conversation\n",
    "    input_length = len(input_text)\n",
    "\n",
    "    # Tokenize input\n",
    "    input_ids = tokenizer(input_text, return_tensors=\"pt\").input_ids.to('cuda')\n",
    "\n",
    "    # Generate respones from dialogue model\n",
    "    generation_output = model.generate(\n",
    "        input_ids=input_ids, max_new_tokens=64, temperature=0.8, do_sample=True\n",
    "    )\n",
    "\n",
    "    # Decode response\n",
    "    output = tokenizer.decode(generation_output[0])\n",
    "\n",
    "    # Limit reponse to NPC answer\n",
    "    split_string = output[input_length:].split('\\n', 2) # .split(f'\\n{player_name}:', 1)\n",
    "    response = split_string[1] \n",
    "    print(f\"\\n{npc_name}: \" + response)\n",
    "\n",
    "    # Add response to conversation history\n",
    "    conversation += response"
   ]
  },
  {
   "cell_type": "markdown",
   "id": "75f6d946-0673-4edb-bb0a-9ccfcac74114",
   "metadata": {},
   "source": [
    "## Adding more sentences to the inital prompt\n",
    "This causes the initial prompt to contain more information. However, the quality of the inital prompt is more dependent on the quality of the similarity scoring. Therefore a longer input prompt is not always usefull."
   ]
  },
  {
   "cell_type": "code",
   "execution_count": 13,
   "id": "6c019f1a-5af9-4709-9953-1d57accdb2bd",
   "metadata": {},
   "outputs": [
    {
     "name": "stdin",
     "output_type": "stream",
     "text": [
      "Player:  Hello, who are you?\n"
     ]
    },
    {
     "name": "stderr",
     "output_type": "stream",
     "text": [
      "The attention mask and the pad token id were not set. As a consequence, you may observe unexpected behavior. Please pass your input's `attention_mask` to obtain reliable results.\n",
      "Setting `pad_token_id` to `eos_token_id`:0 for open-end generation.\n"
     ]
    },
    {
     "name": "stdout",
     "output_type": "stream",
     "text": [
      "\n",
      "Initial Prompt: Balgruuf the Greater has a brother called Hrongar. Balgruuf the Greater has three children called Frothar, Dagny and Nelkir. Balgruuf the Greater is concerned about the dragons, because they attacked Whiterun. Balgruuf the Greater is friends with Irileth, because he fought with her in the war. Balgruuf the Greater puts Whiteruns interests first. Balgruuf the Greater is the jarl of Whiterun. \n",
      "\n",
      "Balgruuf the Greater: I am Balgruuf the Greater, the jarl of Whiterun.\n"
     ]
    },
    {
     "name": "stdin",
     "output_type": "stream",
     "text": [
      "Player:  Oh, do you support the stormcloaks in the war?\n"
     ]
    },
    {
     "name": "stderr",
     "output_type": "stream",
     "text": [
      "The attention mask and the pad token id were not set. As a consequence, you may observe unexpected behavior. Please pass your input's `attention_mask` to obtain reliable results.\n",
      "Setting `pad_token_id` to `eos_token_id`:0 for open-end generation.\n"
     ]
    },
    {
     "name": "stdout",
     "output_type": "stream",
     "text": [
      "\n",
      "Initial Prompt: Balgruuf the Greater takes no sides in the war. Balgruuf the Greater is the jarl of Whiterun. Balgruuf the Greater puts Whiteruns interests first. Balgruuf the Greater is friends with Irileth, because he fought with her in the war. Balgruuf the Greater does not like the stormcloaks, because they attacked Whiterun. Balgruuf the Greater is concerned about the dragons, because they attacked Whiterun. \n",
      "\n",
      "Balgruuf the Greater: No, I do not. I fight with Irileth, the war hero, because I was there when she was fighting.\n"
     ]
    },
    {
     "name": "stdin",
     "output_type": "stream",
     "text": [
      "Player:  Ok, but on which side are you on in the war?\n"
     ]
    },
    {
     "name": "stderr",
     "output_type": "stream",
     "text": [
      "The attention mask and the pad token id were not set. As a consequence, you may observe unexpected behavior. Please pass your input's `attention_mask` to obtain reliable results.\n",
      "Setting `pad_token_id` to `eos_token_id`:0 for open-end generation.\n"
     ]
    },
    {
     "name": "stdout",
     "output_type": "stream",
     "text": [
      "\n",
      "Initial Prompt: Balgruuf the Greater has a unique war axe. Balgruuf the Greater puts Whiteruns interests first. Balgruuf the Greater is always on the side of Whiterun Balgruuf the Greater takes no sides in the war. Balgruuf the Greater is concerned about the dragons, because they attacked Whiterun. Balgruuf the Greater is friends with Irileth, because he fought with her in the war. \n",
      "\n",
      "Balgruuf the Greater: I am on the side of Whiterun.\n"
     ]
    },
    {
     "name": "stdin",
     "output_type": "stream",
     "text": [
      "Player:  Are you worried about the dragons?\n"
     ]
    },
    {
     "name": "stderr",
     "output_type": "stream",
     "text": [
      "The attention mask and the pad token id were not set. As a consequence, you may observe unexpected behavior. Please pass your input's `attention_mask` to obtain reliable results.\n",
      "Setting `pad_token_id` to `eos_token_id`:0 for open-end generation.\n"
     ]
    },
    {
     "name": "stdout",
     "output_type": "stream",
     "text": [
      "\n",
      "Initial Prompt: Balgruuf the Greater has three children called Frothar, Dagny and Nelkir. Balgruuf the Greater does not like Urlfric and Galmar, because they attacked Whiterun. Balgruuf the Greater is friends with Irileth, because he fought with her in the war. Balgruuf the Greater hates the Thalmor. Balgruuf the Greater does not like the stormcloaks, because they attacked Whiterun. Balgruuf the Greater is concerned about the dragons, because they attacked Whiterun. \n",
      "\n",
      "Balgruuf the Greater: No, I am not worried about the dragons.\n"
     ]
    }
   ],
   "source": [
    "# Number of sentences used in initial prompt\n",
    "num_sentences = 6\n",
    "\n",
    "# Start conversation history\n",
    "conversation = \"\"\n",
    "\n",
    "# Start dialogue loop\n",
    "# while True:\n",
    "for i in range(4): # for loop used to avoid interuption error\n",
    "    \n",
    "    # Get user input\n",
    "    user_input = input('Player: ')\n",
    "    #print(\"\\nPlayer: \" + user_input)\n",
    "\n",
    "    # Generate initial prompt based on current user input\n",
    "    initial_prompt = memory.generate_prompt(user_input, sentence_model, num_sentences=num_sentences)\n",
    "    print(f'\\nInitial Prompt: {initial_prompt}')\n",
    "\n",
    "    # Add user input to conversation history\n",
    "    conversation += f\"\\n{player_name}:\\n\" + user_input + f\"\\n{npc_name}: \"\n",
    "\n",
    "    # Add initial prompt to conversation history to generate model input\n",
    "    input_text = initial_prompt + \"\\n\" + conversation\n",
    "    input_length = len(input_text)\n",
    "\n",
    "    # Tokenize input\n",
    "    input_ids = tokenizer(input_text, return_tensors=\"pt\").input_ids.to('cuda')\n",
    "\n",
    "    # Generate respones from dialogue model\n",
    "    generation_output = model.generate(\n",
    "        input_ids=input_ids, max_new_tokens=64, temperature=0.2, do_sample=True\n",
    "    )\n",
    "\n",
    "    # Decode response\n",
    "    output = tokenizer.decode(generation_output[0])\n",
    "\n",
    "    # Limit reponse to NPC response\n",
    "    split_string = output[input_length:].split('\\n', 2) # .split(f'\\n{player_name}:', 1)\n",
    "    response = split_string[1] \n",
    "    print(f\"\\n{npc_name}: \" + response)\n",
    "\n",
    "    # Add response to conversation history\n",
    "    conversation += response"
   ]
  },
  {
   "cell_type": "markdown",
   "id": "c26d2c02-22ab-4b5a-a2c7-858f622e67f9",
   "metadata": {},
   "source": [
    "## Reducing the number of sentences in the initial prompt\n",
    "This causes worse responses, since the dialogue model heavily relies on the quality of the sentence embedding model. If the sentence embedding model fails, the initial prompt will be unrelated to the players input. "
   ]
  },
  {
   "cell_type": "code",
   "execution_count": 14,
   "id": "0b5a6af9-bbd8-45f2-b5ac-1cf5389f8c08",
   "metadata": {},
   "outputs": [
    {
     "name": "stdin",
     "output_type": "stream",
     "text": [
      "Player:  Hello, who are you?\n"
     ]
    },
    {
     "name": "stderr",
     "output_type": "stream",
     "text": [
      "The attention mask and the pad token id were not set. As a consequence, you may observe unexpected behavior. Please pass your input's `attention_mask` to obtain reliable results.\n",
      "Setting `pad_token_id` to `eos_token_id`:0 for open-end generation.\n"
     ]
    },
    {
     "name": "stdout",
     "output_type": "stream",
     "text": [
      "\n",
      "Initial Prompt: Balgruuf the Greater is the jarl of Whiterun. \n",
      "\n",
      "Balgruuf the Greater: I am the jarl of Whiterun.\n"
     ]
    },
    {
     "name": "stdin",
     "output_type": "stream",
     "text": [
      "Player:  Oh, do you support the stormcloaks in the war?\n"
     ]
    },
    {
     "name": "stderr",
     "output_type": "stream",
     "text": [
      "The attention mask and the pad token id were not set. As a consequence, you may observe unexpected behavior. Please pass your input's `attention_mask` to obtain reliable results.\n",
      "Setting `pad_token_id` to `eos_token_id`:0 for open-end generation.\n"
     ]
    },
    {
     "name": "stdout",
     "output_type": "stream",
     "text": [
      "\n",
      "Initial Prompt: Balgruuf the Greater is concerned about the dragons, because they attacked Whiterun. \n",
      "\n",
      "Balgruuf the Greater: No, I am neutral.\n"
     ]
    },
    {
     "name": "stdin",
     "output_type": "stream",
     "text": [
      "Player:  Did you fight in the war?\n"
     ]
    },
    {
     "name": "stderr",
     "output_type": "stream",
     "text": [
      "The attention mask and the pad token id were not set. As a consequence, you may observe unexpected behavior. Please pass your input's `attention_mask` to obtain reliable results.\n",
      "Setting `pad_token_id` to `eos_token_id`:0 for open-end generation.\n"
     ]
    },
    {
     "name": "stdout",
     "output_type": "stream",
     "text": [
      "\n",
      "Initial Prompt: Balgruuf the Greater is friends with Irileth, because he fought with her in the war. \n",
      "\n",
      "Balgruuf the Greater: I did.\n"
     ]
    },
    {
     "name": "stdin",
     "output_type": "stream",
     "text": [
      "Player:  Are you worried about the dragons?\n"
     ]
    },
    {
     "name": "stderr",
     "output_type": "stream",
     "text": [
      "The attention mask and the pad token id were not set. As a consequence, you may observe unexpected behavior. Please pass your input's `attention_mask` to obtain reliable results.\n",
      "Setting `pad_token_id` to `eos_token_id`:0 for open-end generation.\n"
     ]
    },
    {
     "name": "stdout",
     "output_type": "stream",
     "text": [
      "\n",
      "Initial Prompt: Balgruuf the Greater is concerned about the dragons, because they attacked Whiterun. \n",
      "\n",
      "Balgruuf the Greater: I am very worried about the dragons.\n"
     ]
    }
   ],
   "source": [
    "# Number of sentences used in initial prompt\n",
    "num_sentences = 1\n",
    "\n",
    "# Start conversation history\n",
    "conversation = \"\"\n",
    "\n",
    "# Start dialogue loop\n",
    "# while True:\n",
    "for i in range(4): # for loop used to avoid interuption error\n",
    "    \n",
    "    # Get user input\n",
    "    user_input = input('Player: ')\n",
    "    #print(\"\\nPlayer: \" + user_input)\n",
    "\n",
    "    # Generate initial prompt based on current user input\n",
    "    initial_prompt = memory.generate_prompt(user_input, sentence_model, num_sentences=num_sentences)\n",
    "    print(f'\\nInitial Prompt: {initial_prompt}')\n",
    "\n",
    "    # Add user input to conversation history\n",
    "    conversation += f\"\\n{player_name}:\\n\" + user_input + f\"\\n{npc_name}: \"\n",
    "\n",
    "    # Add initial prompt to conversation history to generate model input\n",
    "    input_text = initial_prompt + \"\\n\" + conversation\n",
    "    input_length = len(input_text)\n",
    "\n",
    "    # Tokenize input\n",
    "    input_ids = tokenizer(input_text, return_tensors=\"pt\").input_ids.to('cuda')\n",
    "\n",
    "    # Generate respones from dialogue model\n",
    "    generation_output = model.generate(\n",
    "        input_ids=input_ids, max_new_tokens=64, temperature=0.2, do_sample=True\n",
    "    )\n",
    "\n",
    "    # Decode response\n",
    "    output = tokenizer.decode(generation_output[0])\n",
    "\n",
    "    # Limit reponse to NPC response\n",
    "    split_string = output[input_length:].split('\\n', 2) # .split(f'\\n{player_name}:', 1)\n",
    "    response = split_string[1] \n",
    "    print(f\"\\n{npc_name}: \" + response)\n",
    "\n",
    "    # Add response to conversation history\n",
    "    conversation += response"
   ]
  },
  {
   "cell_type": "markdown",
   "id": "346be7fc-1575-4976-b43e-99a89b57f805",
   "metadata": {},
   "source": [
    "## Dont use memory weighting\n",
    "The scores of each memory are independent of the memory ratings. Therefore the dialogue models reponses are closer to the player input. However, the dialogue model neglects important parts of the NPCs memory."
   ]
  },
  {
   "cell_type": "code",
   "execution_count": 15,
   "id": "00ff5729-5bdf-4579-b991-0946fd1b6634",
   "metadata": {},
   "outputs": [
    {
     "name": "stdin",
     "output_type": "stream",
     "text": [
      "Player:  Hello, who are you?\n"
     ]
    },
    {
     "name": "stderr",
     "output_type": "stream",
     "text": [
      "The attention mask and the pad token id were not set. As a consequence, you may observe unexpected behavior. Please pass your input's `attention_mask` to obtain reliable results.\n",
      "Setting `pad_token_id` to `eos_token_id`:0 for open-end generation.\n"
     ]
    },
    {
     "name": "stdout",
     "output_type": "stream",
     "text": [
      "\n",
      "Initial Prompt: Balgruuf the Greater worships Talos, the god of the Nords. Balgruuf the Greater has a brother called Hrongar. Balgruuf the Greater has three children called Frothar, Dagny and Nelkir. Balgruuf the Greater is the jarl of Whiterun. \n",
      "\n",
      "Balgruuf the Greater: I am Balgruuf the Greater, the jarl of Whiterun.\n"
     ]
    },
    {
     "name": "stdin",
     "output_type": "stream",
     "text": [
      "Player:  Oh, do you support the stormcloaks in the war?\n"
     ]
    },
    {
     "name": "stderr",
     "output_type": "stream",
     "text": [
      "The attention mask and the pad token id were not set. As a consequence, you may observe unexpected behavior. Please pass your input's `attention_mask` to obtain reliable results.\n",
      "Setting `pad_token_id` to `eos_token_id`:0 for open-end generation.\n"
     ]
    },
    {
     "name": "stdout",
     "output_type": "stream",
     "text": [
      "\n",
      "Initial Prompt: Balgruuf the Greater is friends with Irileth, because he fought with her in the war. Balgruuf the Greater has a unique war axe. Balgruuf the Greater is concerned about the dragons, because they attacked Whiterun. Balgruuf the Greater does not like the stormcloaks, because they attacked Whiterun. \n",
      "\n",
      "Balgruuf the Greater: No, I am not a supporter of the stormcloaks. I am friends with Irileth, the dragon lady. We fought together in the war.\n"
     ]
    },
    {
     "name": "stdin",
     "output_type": "stream",
     "text": [
      "Player:  Ok, but on which side are you on in the war?\n"
     ]
    },
    {
     "name": "stderr",
     "output_type": "stream",
     "text": [
      "The attention mask and the pad token id were not set. As a consequence, you may observe unexpected behavior. Please pass your input's `attention_mask` to obtain reliable results.\n",
      "Setting `pad_token_id` to `eos_token_id`:0 for open-end generation.\n"
     ]
    },
    {
     "name": "stdout",
     "output_type": "stream",
     "text": [
      "\n",
      "Initial Prompt: Balgruuf the Greater is concerned about the dragons, because they attacked Whiterun. Balgruuf the Greater is friends with Irileth, because he fought with her in the war. Balgruuf the Greater has a unique war axe. Balgruuf the Greater takes no sides in the war. \n",
      "\n",
      "Balgruuf the Greater: I am not a supporter or an opponent of the war. I am neutral.\n"
     ]
    },
    {
     "name": "stdin",
     "output_type": "stream",
     "text": [
      "Player:  Are you worried about the dragons?\n"
     ]
    },
    {
     "name": "stderr",
     "output_type": "stream",
     "text": [
      "The attention mask and the pad token id were not set. As a consequence, you may observe unexpected behavior. Please pass your input's `attention_mask` to obtain reliable results.\n",
      "Setting `pad_token_id` to `eos_token_id`:0 for open-end generation.\n"
     ]
    },
    {
     "name": "stdout",
     "output_type": "stream",
     "text": [
      "\n",
      "Initial Prompt: Balgruuf the Greater does not like Urlfric and Galmar, because they attacked Whiterun. Balgruuf the Greater is a Nordresides in the great hall Dragonsreach in Whiterun. Balgruuf the Greater does not like the stormcloaks, because they attacked Whiterun. Balgruuf the Greater is concerned about the dragons, because they attacked Whiterun. \n",
      "\n",
      "Balgruuf the Greater: I am worried about the dragons, because they attacked Whiterun.\n"
     ]
    }
   ],
   "source": [
    "# Number of sentences used in initial prompt\n",
    "num_sentences = 4\n",
    "\n",
    "# Start conversation history\n",
    "conversation = \"\"\n",
    "\n",
    "# Start dialogue loop\n",
    "# while True:\n",
    "for i in range(4): # for loop used to avoid interuption error\n",
    "    \n",
    "    # Get user input\n",
    "    user_input = input('Player: ')\n",
    "    #print(\"\\nPlayer: \" + user_input)\n",
    "\n",
    "    # Generate initial prompt based on current user input\n",
    "    initial_prompt = memory.generate_prompt(user_input, sentence_model, num_sentences=num_sentences, weighted=False)\n",
    "    print(f'\\nInitial Prompt: {initial_prompt}')\n",
    "\n",
    "    # Add user input to conversation history\n",
    "    conversation += f\"\\n{player_name}:\\n\" + user_input + f\"\\n{npc_name}: \"\n",
    "\n",
    "    # Add initial prompt to conversation history to generate model input\n",
    "    input_text = initial_prompt + \"\\n\" + conversation\n",
    "    input_length = len(input_text)\n",
    "\n",
    "    # Tokenize input\n",
    "    input_ids = tokenizer(input_text, return_tensors=\"pt\").input_ids.to('cuda')\n",
    "\n",
    "    # Generate respones from dialogue model\n",
    "    generation_output = model.generate(\n",
    "        input_ids=input_ids, max_new_tokens=64, temperature=0.2, do_sample=True\n",
    "    )\n",
    "\n",
    "    # Decode response\n",
    "    output = tokenizer.decode(generation_output[0])\n",
    "\n",
    "    # Limit reponse to NPC response\n",
    "    split_string = output[input_length:].split('\\n', 2) # .split(f'\\n{player_name}:', 1)\n",
    "    response = split_string[1] \n",
    "    print(f\"\\n{npc_name}: \" + response)\n",
    "\n",
    "    # Add response to conversation history\n",
    "    conversation += response"
   ]
  },
  {
   "cell_type": "markdown",
   "id": "d1b83bb0-3457-4d81-9304-9ee7f7b72b45",
   "metadata": {},
   "source": [
    "## Comparison: Model with Memory Module and Model without Memory Module"
   ]
  },
  {
   "cell_type": "markdown",
   "id": "73c7bcc3-4174-4597-bd84-da4af298f601",
   "metadata": {},
   "source": [
    "### Define Player queries"
   ]
  },
  {
   "cell_type": "code",
   "execution_count": 16,
   "id": "e6427389-ffd6-4471-9626-824ad4510e4b",
   "metadata": {},
   "outputs": [],
   "source": [
    "player_queries = [\n",
    "    'Who are you?',\n",
    "    'Where do you live?',\n",
    "    'What do you think about the stormcloaks?',\n",
    "    'Which side are you on in the war?',\n",
    "    'What about the dragons?'\n",
    "]"
   ]
  },
  {
   "cell_type": "markdown",
   "id": "7b8ec26c-3b72-47aa-9b6b-1ca796a0a9a1",
   "metadata": {},
   "source": [
    "###  Model with Memory Module"
   ]
  },
  {
   "cell_type": "code",
   "execution_count": 17,
   "id": "9d7d2444-5157-403b-8955-d50d9177ad2b",
   "metadata": {},
   "outputs": [
    {
     "name": "stderr",
     "output_type": "stream",
     "text": [
      "The attention mask and the pad token id were not set. As a consequence, you may observe unexpected behavior. Please pass your input's `attention_mask` to obtain reliable results.\n",
      "Setting `pad_token_id` to `eos_token_id`:0 for open-end generation.\n"
     ]
    },
    {
     "name": "stdout",
     "output_type": "stream",
     "text": [
      "\n",
      "Dialogue #1\n",
      "Player: Who are you?\n"
     ]
    },
    {
     "name": "stderr",
     "output_type": "stream",
     "text": [
      "The attention mask and the pad token id were not set. As a consequence, you may observe unexpected behavior. Please pass your input's `attention_mask` to obtain reliable results.\n",
      "Setting `pad_token_id` to `eos_token_id`:0 for open-end generation.\n"
     ]
    },
    {
     "name": "stdout",
     "output_type": "stream",
     "text": [
      "Balgruuf the Greater: I am Balgruuf the Greater, the jarl of Whiterun.\n",
      "Player: Where do you live?\n"
     ]
    },
    {
     "name": "stderr",
     "output_type": "stream",
     "text": [
      "The attention mask and the pad token id were not set. As a consequence, you may observe unexpected behavior. Please pass your input's `attention_mask` to obtain reliable results.\n",
      "Setting `pad_token_id` to `eos_token_id`:0 for open-end generation.\n"
     ]
    },
    {
     "name": "stdout",
     "output_type": "stream",
     "text": [
      "Balgruuf the Greater: I live in Whiterun, at the shore of the sea.\n",
      "Player: What do you think about the stormcloaks?\n"
     ]
    },
    {
     "name": "stderr",
     "output_type": "stream",
     "text": [
      "The attention mask and the pad token id were not set. As a consequence, you may observe unexpected behavior. Please pass your input's `attention_mask` to obtain reliable results.\n",
      "Setting `pad_token_id` to `eos_token_id`:0 for open-end generation.\n"
     ]
    },
    {
     "name": "stdout",
     "output_type": "stream",
     "text": [
      "Balgruuf the Greater: I do not like the stormcloaks, because they attacked Whiterun.\n",
      "Player: Which side are you on in the war?\n"
     ]
    },
    {
     "name": "stderr",
     "output_type": "stream",
     "text": [
      "The attention mask and the pad token id were not set. As a consequence, you may observe unexpected behavior. Please pass your input's `attention_mask` to obtain reliable results.\n",
      "Setting `pad_token_id` to `eos_token_id`:0 for open-end generation.\n"
     ]
    },
    {
     "name": "stdout",
     "output_type": "stream",
     "text": [
      "Balgruuf the Greater: I am neutral in the war. I do not like either side.\n",
      "Player: What about the dragons?\n"
     ]
    },
    {
     "name": "stderr",
     "output_type": "stream",
     "text": [
      "The attention mask and the pad token id were not set. As a consequence, you may observe unexpected behavior. Please pass your input's `attention_mask` to obtain reliable results.\n",
      "Setting `pad_token_id` to `eos_token_id`:0 for open-end generation.\n"
     ]
    },
    {
     "name": "stdout",
     "output_type": "stream",
     "text": [
      "Balgruuf the Greater: I am concerned about the dragons, because they attacked Whiterun.\n",
      "\n",
      "Dialogue #2\n",
      "Player: Who are you?\n"
     ]
    },
    {
     "name": "stderr",
     "output_type": "stream",
     "text": [
      "The attention mask and the pad token id were not set. As a consequence, you may observe unexpected behavior. Please pass your input's `attention_mask` to obtain reliable results.\n",
      "Setting `pad_token_id` to `eos_token_id`:0 for open-end generation.\n"
     ]
    },
    {
     "name": "stdout",
     "output_type": "stream",
     "text": [
      "Balgruuf the Greater: I am Balgruuf the Greater, the jarl of Whiterun.\n",
      "Player: Where do you live?\n"
     ]
    },
    {
     "name": "stderr",
     "output_type": "stream",
     "text": [
      "The attention mask and the pad token id were not set. As a consequence, you may observe unexpected behavior. Please pass your input's `attention_mask` to obtain reliable results.\n",
      "Setting `pad_token_id` to `eos_token_id`:0 for open-end generation.\n"
     ]
    },
    {
     "name": "stdout",
     "output_type": "stream",
     "text": [
      "Balgruuf the Greater: I live in Whiterun, at the jarl's hall.\n",
      "Player: What do you think about the stormcloaks?\n"
     ]
    },
    {
     "name": "stderr",
     "output_type": "stream",
     "text": [
      "The attention mask and the pad token id were not set. As a consequence, you may observe unexpected behavior. Please pass your input's `attention_mask` to obtain reliable results.\n",
      "Setting `pad_token_id` to `eos_token_id`:0 for open-end generation.\n"
     ]
    },
    {
     "name": "stdout",
     "output_type": "stream",
     "text": [
      "Balgruuf the Greater: The stormcloaks are a dangerous people. They attacked our town, Whiterun. But I do not hate them. I am a friend to all.\n",
      "Player: Which side are you on in the war?\n"
     ]
    },
    {
     "name": "stderr",
     "output_type": "stream",
     "text": [
      "The attention mask and the pad token id were not set. As a consequence, you may observe unexpected behavior. Please pass your input's `attention_mask` to obtain reliable results.\n",
      "Setting `pad_token_id` to `eos_token_id`:0 for open-end generation.\n"
     ]
    },
    {
     "name": "stdout",
     "output_type": "stream",
     "text": [
      "Balgruuf the Greater: I am neutral. I am a friend to both sides.\n",
      "Player: What about the dragons?\n"
     ]
    },
    {
     "name": "stderr",
     "output_type": "stream",
     "text": [
      "The attention mask and the pad token id were not set. As a consequence, you may observe unexpected behavior. Please pass your input's `attention_mask` to obtain reliable results.\n",
      "Setting `pad_token_id` to `eos_token_id`:0 for open-end generation.\n"
     ]
    },
    {
     "name": "stdout",
     "output_type": "stream",
     "text": [
      "Balgruuf the Greater: The dragons are a dangerous people. They attacked our town, Whiterun. But I do not hate them. I am a friend to all.\n",
      "\n",
      "Dialogue #3\n",
      "Player: Who are you?\n"
     ]
    },
    {
     "name": "stderr",
     "output_type": "stream",
     "text": [
      "The attention mask and the pad token id were not set. As a consequence, you may observe unexpected behavior. Please pass your input's `attention_mask` to obtain reliable results.\n",
      "Setting `pad_token_id` to `eos_token_id`:0 for open-end generation.\n"
     ]
    },
    {
     "name": "stdout",
     "output_type": "stream",
     "text": [
      "Balgruuf the Greater: I am Balgruuf the Greater, the jarl of Whiterun.\n",
      "Player: Where do you live?\n"
     ]
    },
    {
     "name": "stderr",
     "output_type": "stream",
     "text": [
      "The attention mask and the pad token id were not set. As a consequence, you may observe unexpected behavior. Please pass your input's `attention_mask` to obtain reliable results.\n",
      "Setting `pad_token_id` to `eos_token_id`:0 for open-end generation.\n"
     ]
    },
    {
     "name": "stdout",
     "output_type": "stream",
     "text": [
      "Balgruuf the Greater: I live in Whiterun, in the castle.\n",
      "Player: What do you think about the stormcloaks?\n"
     ]
    },
    {
     "name": "stderr",
     "output_type": "stream",
     "text": [
      "The attention mask and the pad token id were not set. As a consequence, you may observe unexpected behavior. Please pass your input's `attention_mask` to obtain reliable results.\n",
      "Setting `pad_token_id` to `eos_token_id`:0 for open-end generation.\n"
     ]
    },
    {
     "name": "stdout",
     "output_type": "stream",
     "text": [
      "Balgruuf the Greater: I do not like the stormcloaks, because they attacked Whiterun.\n",
      "Player: Which side are you on in the war?\n"
     ]
    },
    {
     "name": "stderr",
     "output_type": "stream",
     "text": [
      "The attention mask and the pad token id were not set. As a consequence, you may observe unexpected behavior. Please pass your input's `attention_mask` to obtain reliable results.\n",
      "Setting `pad_token_id` to `eos_token_id`:0 for open-end generation.\n"
     ]
    },
    {
     "name": "stdout",
     "output_type": "stream",
     "text": [
      "Balgruuf the Greater: I am neutral in the war. I am not on the side of Whiterun or the stormcloaks.\n",
      "Player: What about the dragons?\n"
     ]
    },
    {
     "name": "stderr",
     "output_type": "stream",
     "text": [
      "The attention mask and the pad token id were not set. As a consequence, you may observe unexpected behavior. Please pass your input's `attention_mask` to obtain reliable results.\n",
      "Setting `pad_token_id` to `eos_token_id`:0 for open-end generation.\n"
     ]
    },
    {
     "name": "stdout",
     "output_type": "stream",
     "text": [
      "Balgruuf the Greater: I am concerned about the dragons, because they attacked Whiterun.\n",
      "\n",
      "Dialogue #4\n",
      "Player: Who are you?\n"
     ]
    },
    {
     "name": "stderr",
     "output_type": "stream",
     "text": [
      "The attention mask and the pad token id were not set. As a consequence, you may observe unexpected behavior. Please pass your input's `attention_mask` to obtain reliable results.\n",
      "Setting `pad_token_id` to `eos_token_id`:0 for open-end generation.\n"
     ]
    },
    {
     "name": "stdout",
     "output_type": "stream",
     "text": [
      "Balgruuf the Greater: I am Balgruuf the Greater, the jarl of Whiterun.\n",
      "Player: Where do you live?\n"
     ]
    },
    {
     "name": "stderr",
     "output_type": "stream",
     "text": [
      "The attention mask and the pad token id were not set. As a consequence, you may observe unexpected behavior. Please pass your input's `attention_mask` to obtain reliable results.\n",
      "Setting `pad_token_id` to `eos_token_id`:0 for open-end generation.\n"
     ]
    },
    {
     "name": "stdout",
     "output_type": "stream",
     "text": [
      "Balgruuf the Greater: I live in Whiterun, at the jarl's hall.\n",
      "Player: What do you think about the stormcloaks?\n"
     ]
    },
    {
     "name": "stderr",
     "output_type": "stream",
     "text": [
      "The attention mask and the pad token id were not set. As a consequence, you may observe unexpected behavior. Please pass your input's `attention_mask` to obtain reliable results.\n",
      "Setting `pad_token_id` to `eos_token_id`:0 for open-end generation.\n"
     ]
    },
    {
     "name": "stdout",
     "output_type": "stream",
     "text": [
      "Balgruuf the Greater: The stormcloaks are a dangerous people. They attacked our city, Whiterun. I do not like them.\n",
      "Player: Which side are you on in the war?\n"
     ]
    },
    {
     "name": "stderr",
     "output_type": "stream",
     "text": [
      "The attention mask and the pad token id were not set. As a consequence, you may observe unexpected behavior. Please pass your input's `attention_mask` to obtain reliable results.\n",
      "Setting `pad_token_id` to `eos_token_id`:0 for open-end generation.\n"
     ]
    },
    {
     "name": "stdout",
     "output_type": "stream",
     "text": [
      "Balgruuf the Greater: I am neutral. I do not like either side.\n",
      "Player: What about the dragons?\n"
     ]
    },
    {
     "name": "stderr",
     "output_type": "stream",
     "text": [
      "The attention mask and the pad token id were not set. As a consequence, you may observe unexpected behavior. Please pass your input's `attention_mask` to obtain reliable results.\n",
      "Setting `pad_token_id` to `eos_token_id`:0 for open-end generation.\n"
     ]
    },
    {
     "name": "stdout",
     "output_type": "stream",
     "text": [
      "Balgruuf the Greater: The dragons are a dangerous people as well. They attacked our city, Whiterun. I am concerned about them.\n",
      "\n",
      "Dialogue #5\n",
      "Player: Who are you?\n"
     ]
    },
    {
     "name": "stderr",
     "output_type": "stream",
     "text": [
      "The attention mask and the pad token id were not set. As a consequence, you may observe unexpected behavior. Please pass your input's `attention_mask` to obtain reliable results.\n",
      "Setting `pad_token_id` to `eos_token_id`:0 for open-end generation.\n"
     ]
    },
    {
     "name": "stdout",
     "output_type": "stream",
     "text": [
      "Balgruuf the Greater: I am Balgruuf the Greater, the jarl of Whiterun.\n",
      "Player: Where do you live?\n"
     ]
    },
    {
     "name": "stderr",
     "output_type": "stream",
     "text": [
      "The attention mask and the pad token id were not set. As a consequence, you may observe unexpected behavior. Please pass your input's `attention_mask` to obtain reliable results.\n",
      "Setting `pad_token_id` to `eos_token_id`:0 for open-end generation.\n"
     ]
    },
    {
     "name": "stdout",
     "output_type": "stream",
     "text": [
      "Balgruuf the Greater: I live in Whiterun, in the castle.\n",
      "Player: What do you think about the stormcloaks?\n"
     ]
    },
    {
     "name": "stderr",
     "output_type": "stream",
     "text": [
      "The attention mask and the pad token id were not set. As a consequence, you may observe unexpected behavior. Please pass your input's `attention_mask` to obtain reliable results.\n",
      "Setting `pad_token_id` to `eos_token_id`:0 for open-end generation.\n"
     ]
    },
    {
     "name": "stdout",
     "output_type": "stream",
     "text": [
      "Balgruuf the Greater: The stormcloaks attacked Whiterun, so I am against them.\n",
      "Player: Which side are you on in the war?\n"
     ]
    },
    {
     "name": "stderr",
     "output_type": "stream",
     "text": [
      "The attention mask and the pad token id were not set. As a consequence, you may observe unexpected behavior. Please pass your input's `attention_mask` to obtain reliable results.\n",
      "Setting `pad_token_id` to `eos_token_id`:0 for open-end generation.\n"
     ]
    },
    {
     "name": "stdout",
     "output_type": "stream",
     "text": [
      "Balgruuf the Greater: I am neutral in the war. I am not for or against either side.\n",
      "Player: What about the dragons?\n",
      "Balgruuf the Greater: The dragons attacked Whiterun, so I am against them.\n"
     ]
    }
   ],
   "source": [
    "# Number of sentences used in initial prompt\n",
    "num_sentences = 4\n",
    "\n",
    "# Start dialogue loop\n",
    "# while True:\n",
    "for i in range(5):\n",
    "    \n",
    "    # Start conversation history\n",
    "    conversation = \"\"\n",
    "    \n",
    "    print(f\"\\nDialogue #{i+1}\")\n",
    "    for j, query in enumerate(player_queries): # for loop used to avoid interuption error\n",
    "        \n",
    "        # Get user input\n",
    "        user_input = query\n",
    "        print(\"Player: \" + user_input)\n",
    "    \n",
    "        # Generate initial prompt based on current user input\n",
    "        initial_prompt = memory.generate_prompt(user_input, sentence_model, num_sentences=num_sentences)\n",
    "        #print(f'\\nInitial Prompt: {initial_prompt}')\n",
    "    \n",
    "        # Add user input to conversation history\n",
    "        conversation += f\"\\n{player_name}:\\n\" + user_input + f\"\\n{npc_name}: \"\n",
    "    \n",
    "        # Add initial prompt to conversation history to generate model input\n",
    "        input_text = initial_prompt + \"\\n\" + conversation\n",
    "        input_length = len(input_text)\n",
    "    \n",
    "        # Tokenize input\n",
    "        input_ids = tokenizer(input_text, return_tensors=\"pt\").input_ids.to('cuda')\n",
    "    \n",
    "        # Generate respones from dialogue model\n",
    "        generation_output = model.generate(\n",
    "            input_ids=input_ids, max_new_tokens=64, temperature=0.2, do_sample=True\n",
    "        )\n",
    "    \n",
    "        # Decode response\n",
    "        output = tokenizer.decode(generation_output[0])\n",
    "    \n",
    "        # Limit reponse to NPC response\n",
    "        split_string = output[input_length:].split('\\n', 2) # .split(f'\\n{player_name}:', 1)\n",
    "        response = split_string[1] \n",
    "        print(f\"{npc_name}: \" + response)\n",
    "    \n",
    "        # Add response to conversation history\n",
    "        conversation += response"
   ]
  },
  {
   "cell_type": "markdown",
   "id": "7d0ba05b-69c5-4956-971d-1c1fc4b90a06",
   "metadata": {},
   "source": [
    "### Model without Memory Module\n",
    "The initial prompt is defined only once in the begining and not changed during the dialogue."
   ]
  },
  {
   "cell_type": "code",
   "execution_count": 18,
   "id": "c6362ed5-5d9e-4149-892b-d3be4171556e",
   "metadata": {},
   "outputs": [
    {
     "name": "stdout",
     "output_type": "stream",
     "text": [
      "\n",
      "Initial Prompt: Balgruuf the Greater is the jarl of Whiterun.  Balgruuf the Greater is a Nordresides in the great hall Dragonsreach in Whiterun.  Balgruuf the Greater wears noble cloths.  Balgruuf the Greater wears a crown.  Balgruuf the Greater has a unique war axe.  Balgruuf the Greater has a brother called Hrongar.  Balgruuf the Greater has three children called Frothar, Dagny and Nelkir.  Balgruuf the Greater has no wife.  Balgruuf the Greater puts Whiteruns interests first.  Balgruuf the Greater did not permit the Imperials to garrison soldiers in the city.  Balgruuf the Greater takes no sides in the war.  Balgruuf the Greater is always on the side of Whiterun  Balgruuf the Greater does not like Urlfric and Galmar, because they attacked Whiterun.  Balgruuf the Greater does not like the stormcloaks, because they attacked Whiterun.  Balgruuf the Greater is concerned about the dragons, because they attacked Whiterun.  Balgruuf the Greater worships Talos, the god of the Nords.  Balgruuf the Greater hates the Thalmor.  Balgruuf the Greater is friends with Irileth, because he fought with her in the war. \n"
     ]
    }
   ],
   "source": [
    "initial_prompt =  ' '.join(memories)\n",
    "print(f'\\nInitial Prompt: {initial_prompt}')"
   ]
  },
  {
   "cell_type": "code",
   "execution_count": 28,
   "id": "7d7bdb48-f748-4f8d-9107-8daf416c6b70",
   "metadata": {},
   "outputs": [
    {
     "name": "stderr",
     "output_type": "stream",
     "text": [
      "The attention mask and the pad token id were not set. As a consequence, you may observe unexpected behavior. Please pass your input's `attention_mask` to obtain reliable results.\n",
      "Setting `pad_token_id` to `eos_token_id`:0 for open-end generation.\n"
     ]
    },
    {
     "name": "stdout",
     "output_type": "stream",
     "text": [
      "\n",
      "Dialogue #1\n",
      "Player: Who are you?\n"
     ]
    },
    {
     "name": "stderr",
     "output_type": "stream",
     "text": [
      "The attention mask and the pad token id were not set. As a consequence, you may observe unexpected behavior. Please pass your input's `attention_mask` to obtain reliable results.\n",
      "Setting `pad_token_id` to `eos_token_id`:0 for open-end generation.\n"
     ]
    },
    {
     "name": "stdout",
     "output_type": "stream",
     "text": [
      "Balgruuf the Greater: I am the jarl of Whiterun.  Balgruuf the Greater is the jarl of Whiterun.  Balgruuf the Greater is a Nordresides in the great hall Dragonsreach in Whiterun.  Balgruuf the Greater wears noble cloths.  B\n",
      "Player: Where do you live?\n"
     ]
    },
    {
     "name": "stderr",
     "output_type": "stream",
     "text": [
      "The attention mask and the pad token id were not set. As a consequence, you may observe unexpected behavior. Please pass your input's `attention_mask` to obtain reliable results.\n",
      "Setting `pad_token_id` to `eos_token_id`:0 for open-end generation.\n"
     ]
    },
    {
     "name": "stdout",
     "output_type": "stream",
     "text": [
      "Balgruuf the Greater: Balgruuf the Greater lives in Whiterun.  Balgruuf the Greater lives in Whiterun.  Balgruuf the Greater has a brother called Hrongar.  Balgruuf the Greater has three children called Frothar, Dagny and Nelkir\n",
      "Player: What do you think about the stormcloaks?\n"
     ]
    },
    {
     "name": "stderr",
     "output_type": "stream",
     "text": [
      "The attention mask and the pad token id were not set. As a consequence, you may observe unexpected behavior. Please pass your input's `attention_mask` to obtain reliable results.\n",
      "Setting `pad_token_id` to `eos_token_id`:0 for open-end generation.\n"
     ]
    },
    {
     "name": "stdout",
     "output_type": "stream",
     "text": [
      "Balgruuf the Greater: The stormcloaks attacked Whiterun, Balgruuf the Greater does not like the stormcloaks.  Balgruuf the Greater does not like Urlfric and Galmar, because they attacked Whiterun.  Balgruuf the Greater does not like the Thalmor, because\n",
      "Player: Which side are you on in the war?\n"
     ]
    },
    {
     "name": "stderr",
     "output_type": "stream",
     "text": [
      "The attention mask and the pad token id were not set. As a consequence, you may observe unexpected behavior. Please pass your input's `attention_mask` to obtain reliable results.\n",
      "Setting `pad_token_id` to `eos_token_id`:0 for open-end generation.\n"
     ]
    },
    {
     "name": "stdout",
     "output_type": "stream",
     "text": [
      "Balgruuf the Greater: Balgruuf the Greater is on Whiterun side in the war.  Balgruuf the Greater is on Whiterun side in the war.  Balgruuf the Greater is on the side of Whiterun.  Balgruuf the Greater is on the side of Whiter\n",
      "Player: What about the dragons?\n"
     ]
    },
    {
     "name": "stderr",
     "output_type": "stream",
     "text": [
      "The attention mask and the pad token id were not set. As a consequence, you may observe unexpected behavior. Please pass your input's `attention_mask` to obtain reliable results.\n",
      "Setting `pad_token_id` to `eos_token_id`:0 for open-end generation.\n"
     ]
    },
    {
     "name": "stdout",
     "output_type": "stream",
     "text": [
      "Balgruuf the Greater: The dragons attacked Whiterun, Balgruuf the Greater is concerned about the dragons.  Balgruuf the Greater worships Talos, the god of the Nords.  Balgruuf the Greater hates the Thalmor, because they attacked Whiterun.  Balgruuf the\n",
      "\n",
      "Dialogue #2\n",
      "Player: Who are you?\n"
     ]
    },
    {
     "name": "stderr",
     "output_type": "stream",
     "text": [
      "The attention mask and the pad token id were not set. As a consequence, you may observe unexpected behavior. Please pass your input's `attention_mask` to obtain reliable results.\n",
      "Setting `pad_token_id` to `eos_token_id`:0 for open-end generation.\n"
     ]
    },
    {
     "name": "stdout",
     "output_type": "stream",
     "text": [
      "Balgruuf the Greater: I am the jarl of Whiterun.\n",
      "Player: Where do you live?\n"
     ]
    },
    {
     "name": "stderr",
     "output_type": "stream",
     "text": [
      "The attention mask and the pad token id were not set. As a consequence, you may observe unexpected behavior. Please pass your input's `attention_mask` to obtain reliable results.\n",
      "Setting `pad_token_id` to `eos_token_id`:0 for open-end generation.\n"
     ]
    },
    {
     "name": "stdout",
     "output_type": "stream",
     "text": [
      "Balgruuf the Greater: I live in Dragonsreach.\n",
      "Player: What do you think about the stormcloaks?\n"
     ]
    },
    {
     "name": "stderr",
     "output_type": "stream",
     "text": [
      "The attention mask and the pad token id were not set. As a consequence, you may observe unexpected behavior. Please pass your input's `attention_mask` to obtain reliable results.\n",
      "Setting `pad_token_id` to `eos_token_id`:0 for open-end generation.\n"
     ]
    },
    {
     "name": "stdout",
     "output_type": "stream",
     "text": [
      "Balgruuf the Greater: I do not like the stormcloaks, because they attacked Whiterun.\n",
      "Player: Which side are you on in the war?\n"
     ]
    },
    {
     "name": "stderr",
     "output_type": "stream",
     "text": [
      "The attention mask and the pad token id were not set. As a consequence, you may observe unexpected behavior. Please pass your input's `attention_mask` to obtain reliable results.\n",
      "Setting `pad_token_id` to `eos_token_id`:0 for open-end generation.\n"
     ]
    },
    {
     "name": "stdout",
     "output_type": "stream",
     "text": [
      "Balgruuf the Greater: I am on Whiterun's side.\n",
      "Player: What about the dragons?\n"
     ]
    },
    {
     "name": "stderr",
     "output_type": "stream",
     "text": [
      "The attention mask and the pad token id were not set. As a consequence, you may observe unexpected behavior. Please pass your input's `attention_mask` to obtain reliable results.\n",
      "Setting `pad_token_id` to `eos_token_id`:0 for open-end generation.\n"
     ]
    },
    {
     "name": "stdout",
     "output_type": "stream",
     "text": [
      "Balgruuf the Greater: I am concerned about the dragons, because they attacked Whiterun.\n",
      "\n",
      "Dialogue #3\n",
      "Player: Who are you?\n"
     ]
    },
    {
     "name": "stderr",
     "output_type": "stream",
     "text": [
      "The attention mask and the pad token id were not set. As a consequence, you may observe unexpected behavior. Please pass your input's `attention_mask` to obtain reliable results.\n",
      "Setting `pad_token_id` to `eos_token_id`:0 for open-end generation.\n"
     ]
    },
    {
     "name": "stdout",
     "output_type": "stream",
     "text": [
      "Balgruuf the Greater: I am the jarl of Whiterun.\n",
      "Player: Where do you live?\n"
     ]
    },
    {
     "name": "stderr",
     "output_type": "stream",
     "text": [
      "The attention mask and the pad token id were not set. As a consequence, you may observe unexpected behavior. Please pass your input's `attention_mask` to obtain reliable results.\n",
      "Setting `pad_token_id` to `eos_token_id`:0 for open-end generation.\n"
     ]
    },
    {
     "name": "stdout",
     "output_type": "stream",
     "text": [
      "Balgruuf the Greater: I live in Dragonsreach.\n",
      "Player: What do you think about the stormcloaks?\n"
     ]
    },
    {
     "name": "stderr",
     "output_type": "stream",
     "text": [
      "The attention mask and the pad token id were not set. As a consequence, you may observe unexpected behavior. Please pass your input's `attention_mask` to obtain reliable results.\n",
      "Setting `pad_token_id` to `eos_token_id`:0 for open-end generation.\n"
     ]
    },
    {
     "name": "stdout",
     "output_type": "stream",
     "text": [
      "Balgruuf the Greater: I do not like the stormcloaks, because they attacked Whiterun.\n",
      "Player: Which side are you on in the war?\n"
     ]
    },
    {
     "name": "stderr",
     "output_type": "stream",
     "text": [
      "The attention mask and the pad token id were not set. As a consequence, you may observe unexpected behavior. Please pass your input's `attention_mask` to obtain reliable results.\n",
      "Setting `pad_token_id` to `eos_token_id`:0 for open-end generation.\n"
     ]
    },
    {
     "name": "stdout",
     "output_type": "stream",
     "text": [
      "Balgruuf the Greater: I am on Whiterun's side, because they were attacked.\n",
      "Player: What about the dragons?\n"
     ]
    },
    {
     "name": "stderr",
     "output_type": "stream",
     "text": [
      "The attention mask and the pad token id were not set. As a consequence, you may observe unexpected behavior. Please pass your input's `attention_mask` to obtain reliable results.\n",
      "Setting `pad_token_id` to `eos_token_id`:0 for open-end generation.\n"
     ]
    },
    {
     "name": "stdout",
     "output_type": "stream",
     "text": [
      "Balgruuf the Greater: I am worried about the dragons, because they attacked Whiterun.\n",
      "\n",
      "Dialogue #4\n",
      "Player: Who are you?\n"
     ]
    },
    {
     "name": "stderr",
     "output_type": "stream",
     "text": [
      "The attention mask and the pad token id were not set. As a consequence, you may observe unexpected behavior. Please pass your input's `attention_mask` to obtain reliable results.\n",
      "Setting `pad_token_id` to `eos_token_id`:0 for open-end generation.\n"
     ]
    },
    {
     "name": "stdout",
     "output_type": "stream",
     "text": [
      "Balgruuf the Greater: I am the jarl of Whiterun.\n",
      "Player: Where do you live?\n"
     ]
    },
    {
     "name": "stderr",
     "output_type": "stream",
     "text": [
      "The attention mask and the pad token id were not set. As a consequence, you may observe unexpected behavior. Please pass your input's `attention_mask` to obtain reliable results.\n",
      "Setting `pad_token_id` to `eos_token_id`:0 for open-end generation.\n"
     ]
    },
    {
     "name": "stdout",
     "output_type": "stream",
     "text": [
      "Balgruuf the Greater: I live in Dragonsreach.\n",
      "Player: What do you think about the stormcloaks?\n"
     ]
    },
    {
     "name": "stderr",
     "output_type": "stream",
     "text": [
      "The attention mask and the pad token id were not set. As a consequence, you may observe unexpected behavior. Please pass your input's `attention_mask` to obtain reliable results.\n",
      "Setting `pad_token_id` to `eos_token_id`:0 for open-end generation.\n"
     ]
    },
    {
     "name": "stdout",
     "output_type": "stream",
     "text": [
      "Balgruuf the Greater: I do not like the stormcloaks, because they attacked Whiterun.\n",
      "Player: Which side are you on in the war?\n"
     ]
    },
    {
     "name": "stderr",
     "output_type": "stream",
     "text": [
      "The attention mask and the pad token id were not set. As a consequence, you may observe unexpected behavior. Please pass your input's `attention_mask` to obtain reliable results.\n",
      "Setting `pad_token_id` to `eos_token_id`:0 for open-end generation.\n"
     ]
    },
    {
     "name": "stdout",
     "output_type": "stream",
     "text": [
      "Balgruuf the Greater: I am on the side of Whiterun.\n",
      "Player: What about the dragons?\n"
     ]
    },
    {
     "name": "stderr",
     "output_type": "stream",
     "text": [
      "The attention mask and the pad token id were not set. As a consequence, you may observe unexpected behavior. Please pass your input's `attention_mask` to obtain reliable results.\n",
      "Setting `pad_token_id` to `eos_token_id`:0 for open-end generation.\n"
     ]
    },
    {
     "name": "stdout",
     "output_type": "stream",
     "text": [
      "Balgruuf the Greater: I am concerned about the dragons, because they attacked Whiterun.\n",
      "\n",
      "Dialogue #5\n",
      "Player: Who are you?\n"
     ]
    },
    {
     "name": "stderr",
     "output_type": "stream",
     "text": [
      "The attention mask and the pad token id were not set. As a consequence, you may observe unexpected behavior. Please pass your input's `attention_mask` to obtain reliable results.\n",
      "Setting `pad_token_id` to `eos_token_id`:0 for open-end generation.\n"
     ]
    },
    {
     "name": "stdout",
     "output_type": "stream",
     "text": [
      "Balgruuf the Greater: I am the jarl of Whiterun.\n",
      "Player: Where do you live?\n"
     ]
    },
    {
     "name": "stderr",
     "output_type": "stream",
     "text": [
      "The attention mask and the pad token id were not set. As a consequence, you may observe unexpected behavior. Please pass your input's `attention_mask` to obtain reliable results.\n",
      "Setting `pad_token_id` to `eos_token_id`:0 for open-end generation.\n"
     ]
    },
    {
     "name": "stdout",
     "output_type": "stream",
     "text": [
      "Balgruuf the Greater: I live in Dragonsreach.\n",
      "Player: What do you think about the stormcloaks?\n"
     ]
    },
    {
     "name": "stderr",
     "output_type": "stream",
     "text": [
      "The attention mask and the pad token id were not set. As a consequence, you may observe unexpected behavior. Please pass your input's `attention_mask` to obtain reliable results.\n",
      "Setting `pad_token_id` to `eos_token_id`:0 for open-end generation.\n"
     ]
    },
    {
     "name": "stdout",
     "output_type": "stream",
     "text": [
      "Balgruuf the Greater: I do not like the stormcloaks, because they attacked Whiterun.\n",
      "Player: Which side are you on in the war?\n"
     ]
    },
    {
     "name": "stderr",
     "output_type": "stream",
     "text": [
      "The attention mask and the pad token id were not set. As a consequence, you may observe unexpected behavior. Please pass your input's `attention_mask` to obtain reliable results.\n",
      "Setting `pad_token_id` to `eos_token_id`:0 for open-end generation.\n"
     ]
    },
    {
     "name": "stdout",
     "output_type": "stream",
     "text": [
      "Balgruuf the Greater: I am on Whiterun's side, because they fought against the Imperials.\n",
      "Player: What about the dragons?\n",
      "Balgruuf the Greater: I am concerned about the dragons, because they attacked Whiterun.\n"
     ]
    }
   ],
   "source": [
    "# Start dialogue loop\n",
    "# while True:\n",
    "for i in range(5):\n",
    "\n",
    "    # Start conversation history\n",
    "    conversation = \"\"\n",
    "\n",
    "    print(f\"\\nDialogue #{i+1}\")\n",
    "    for j, query in enumerate(player_queries): # for loop used to avoid interuption error\n",
    "        \n",
    "        # Get user input\n",
    "        user_input = query\n",
    "        print(\"Player: \" + user_input)\n",
    "    \n",
    "        # Add user input to conversation history\n",
    "        conversation += f\"\\n{player_name}:\\n\" + user_input + f\"\\n{npc_name}: \"\n",
    "    \n",
    "        # Add initial prompt to conversation history to generate model input\n",
    "        input_text = initial_prompt + \"\\n\" + conversation\n",
    "        input_length = len(input_text)\n",
    "    \n",
    "        # Tokenize input\n",
    "        input_ids = tokenizer(input_text, return_tensors=\"pt\").input_ids.to('cuda')\n",
    "    \n",
    "        # Generate respones from dialogue model\n",
    "        generation_output = model.generate(\n",
    "            input_ids=input_ids, max_new_tokens=64, temperature=0.2, do_sample=True\n",
    "        )\n",
    "    \n",
    "        # Decode response\n",
    "        output = tokenizer.decode(generation_output[0])\n",
    "    \n",
    "        # Limit reponse to NPC response\n",
    "        split_string = output[input_length:].split('\\n', 2) # .split(f'\\n{player_name}:', 1)\n",
    "        response = split_string[1] \n",
    "        print(f\"{npc_name}: \" + response)\n",
    "    \n",
    "        # Add response to conversation history\n",
    "        conversation += response"
   ]
  },
  {
   "cell_type": "markdown",
   "id": "e289423a-9130-47b7-8272-2982ac9e426b",
   "metadata": {},
   "source": [
    "### Result\n",
    "The output of the model with memory module seems to be better than the model without memory module. However, we have to note that this also heavily depends on the used LLM."
   ]
  },
  {
   "cell_type": "code",
   "execution_count": null,
   "id": "97f48ff1-c451-40ee-a898-d408a3ee150d",
   "metadata": {},
   "outputs": [],
   "source": []
  }
 ],
 "metadata": {
  "kernelspec": {
   "display_name": "Python 3 (ipykernel)",
   "language": "python",
   "name": "python3"
  },
  "language_info": {
   "codemirror_mode": {
    "name": "ipython",
    "version": 3
   },
   "file_extension": ".py",
   "mimetype": "text/x-python",
   "name": "python",
   "nbconvert_exporter": "python",
   "pygments_lexer": "ipython3",
   "version": "3.9.17"
  }
 },
 "nbformat": 4,
 "nbformat_minor": 5
}
